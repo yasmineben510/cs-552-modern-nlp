{
 "cells": [
  {
   "cell_type": "markdown",
   "metadata": {},
   "source": [
    "# 📚 Exercise Session - Week 1\n",
    "\n",
    "Welcome to Week 1 exercise session of **CS-552: Modern NLP**!\n",
    "\n",
    "> **What will be covered:**\n",
    "> 1. [**TASK A:** Training a word embedding model](#1)\n",
    "> 2. [**TASK B:** Word embedding similarity](#2)\n",
    "> 3. [**TASK C:** Sentiment analysis of movie reviews](#3)\n",
    "\n",
    "> **By the end of the session you will be able to:**\n",
    "> - ✅  train from scratch a word embedding model\n",
    "> - ✅  load and use pre-trained word embeddings \n",
    "> - ✅  perform word embedding analogies and understand their implicit biases\n",
    "> - ✅  train and evaluate a sentiment classifier using word embeddings "
   ]
  },
  {
   "cell_type": "markdown",
   "metadata": {},
   "source": [
    "## Intro - Word embedding models\n",
    "\n",
    "#### 🔵 What?\n",
    "A word embedding is a learned representation for text where words that have the same meaning have a similar representation. It is this approach to representing words and documents that may be considered one of the key breakthroughs of deep learning on challenging natural language processing problems.\n",
    "\n",
    "\n",
    "#### 🟡 How?\n",
    "There are different versions of word embeddings depending on the way the embeddings are learned.\n",
    "- Some of the models learn a focus word given the neighboring words that surround them\n",
    "- Some other models learn the neighboring words given the focus word.\n",
    "- Some other word embedding models try to derive the relationship between the words from global statistics of the words in the overall corpus.\n",
    "\n",
    "\n",
    "#### 🟣 Why?\n",
    "Word embedding is an important concept in NLP that is used for representing words for text analysis in the form of real-valued vectors. It is an advancement that has improved the ability of computers to understand text-based content in a better way. \n",
    "\n",
    "\n",
    "#### A little bit of history on word embeddings\n",
    "In 2013, Tomas Mikolov et al. developed an algorithm for learning word embeddings called **Word2vec** [[paper](https://arxiv.org/abs/1301.3781)][[code](https://code.google.com/archive/p/word2vec/)]. This algorithm uses a shallow neural network to learn word vectors so that the representation of each word of a given corpus is good at predicting its own contexts (Skip-Gram) or vice versa (CBOW).\n",
    "\n",
    "One year after the publication of Word2vec, Pennington et al. developed a new algorithm for learning word embeddings called **GloVe** [[paper](https://nlp.stanford.edu/pubs/glove.pdf)][[code](https://github.com/stanfordnlp/GloVe)]. This algorithm is based on the observation that word relationships can be recovered from the co-occurrence statistics of any (large enough) corpus."
   ]
  },
  {
   "cell_type": "markdown",
   "metadata": {},
   "source": [
    "<div style=\"padding:8px 0 8px 15px;border-left:3px solid orange;background-color:#F3F3F3; color: black\">\n",
    "    <h3>Goal of today's exercise</h3><br/>\n",
    "In this exercise session, we will use both variants of these word embedding models (Word2Vec and GloVe) for our experiments.\n",
    "For the first part, we will train from scratch a Word2vec model with different datasets. In the second part, we will load pre-trained Word2vec and GloVe embeddings and test them on how well they capture concept similarity among words. Finally, for the last part, we will train a simple sentiment analysis classifier with these pre-trained embeddings as we discussed in the lecture.\n",
    "\n",
    "You will need to fill in all the missing pieces of code. For each one, you will be given a 🎯 `Goal` guidance that explains the steps you need to implement and a 💻 `API` reference with the functions or classes you can use to achieve each goal.\n",
    "\n",
    "</div>"
   ]
  },
  {
   "cell_type": "code",
   "execution_count": null,
   "metadata": {},
   "outputs": [],
   "source": [
    "#!conda create -n \"mnlp_exercises\" python=3.10.11 --yes"
   ]
  },
  {
   "cell_type": "code",
   "execution_count": null,
   "metadata": {},
   "outputs": [],
   "source": [
    "#!conda activate mnlp_exercises"
   ]
  },
  {
   "cell_type": "code",
   "execution_count": null,
   "metadata": {},
   "outputs": [],
   "source": [
    "#!pip3 install pandas gensim numpy matplotlib seaborn scikit-learn tqdm torch torchmetrics"
   ]
  },
  {
   "cell_type": "code",
   "execution_count": 1,
   "metadata": {},
   "outputs": [
    {
     "name": "stderr",
     "output_type": "stream",
     "text": [
      "/opt/miniconda3/envs/mnlp/lib/python3.10/site-packages/tqdm/auto.py:21: TqdmWarning: IProgress not found. Please update jupyter and ipywidgets. See https://ipywidgets.readthedocs.io/en/stable/user_install.html\n",
      "  from .autonotebook import tqdm as notebook_tqdm\n"
     ]
    }
   ],
   "source": [
    "# imported libraries for this exercise\n",
    "import pandas as pd\n",
    "import numpy as np\n",
    "from gensim.test.utils import common_texts\n",
    "from gensim.utils import tokenize   \n",
    "from gensim.models import Word2Vec\n",
    "import gensim.downloader\n",
    "import torch \n",
    "from torch import nn\n",
    "from torch.utils.data import Dataset, DataLoader\n",
    "from torchmetrics.classification import BinaryAccuracy\n",
    "from sklearn.manifold import TSNE\n",
    "import matplotlib.pyplot as plt\n",
    "import seaborn as sns\n",
    "from tqdm import tqdm"
   ]
  },
  {
   "cell_type": "markdown",
   "metadata": {},
   "source": [
    "<a id=\"1\"></a>\n",
    "## 1. TASK A: Training a word embedding model from stratch \n",
    "\n",
    "In this part, you will train a model to learn vector representations of words and more specifically, we will train the word2vec model. \n",
    "To train the model we will use the Gensim library which is a free open-source Python library for representing documents as semantic vectors.\n",
    " \n",
    "> **Gensim** is designed to process raw, unstructured digital texts (“plain text”) using unsupervised machine learning algorithms. The algorithms in Gensim, such as Word2Vec, FastText, Latent Semantic Indexing (LSI, LSA, LsiModel), Latent Dirichlet Allocation (LDA, LdaModel) etc, automatically discover the semantic structure of documents by examining statistical co-occurrence patterns within a corpus of training documents. These algorithms are unsupervised, which means no human input is necessary – you only need a corpus of plain text documents.\n",
    ">\n",
    "> You can discover all Gensim functionalities [here](https://radimrehurek.com/gensim/index.html).\n",
    "\n",
    "To train your embedding model, you will need to instantiate Word2Vec and pass the data to the model to train with. We essentially need to pass on a list of lists, where each list within the main list contains a set of tokens from a user review. Word2Vec uses all these tokens to internally create a vocabulary.\n",
    "\n",
    "**Data:** We will train our embedding model using a toy dataset that is provided by the Gensim library. You can use the dataset under the following path `gensim.test.utils.common_texts`. "
   ]
  },
  {
   "cell_type": "code",
   "execution_count": 2,
   "metadata": {},
   "outputs": [
    {
     "data": {
      "text/plain": [
       "[['human', 'interface', 'computer'],\n",
       " ['survey', 'user', 'computer', 'system', 'response', 'time'],\n",
       " ['eps', 'user', 'interface', 'system'],\n",
       " ['system', 'human', 'system', 'eps'],\n",
       " ['user', 'response', 'time'],\n",
       " ['trees'],\n",
       " ['graph', 'trees'],\n",
       " ['graph', 'minors', 'trees'],\n",
       " ['graph', 'minors', 'survey']]"
      ]
     },
     "execution_count": 2,
     "metadata": {},
     "output_type": "execute_result"
    }
   ],
   "source": [
    "# bag of words for each sentence in toy dataset (imported from the gensim library in cell 2)\n",
    "common_texts"
   ]
  },
  {
   "cell_type": "code",
   "execution_count": 3,
   "metadata": {},
   "outputs": [
    {
     "name": "stderr",
     "output_type": "stream",
     "text": [
      "/opt/miniconda3/envs/mnlp/lib/python3.10/site-packages/gensim/utils.py:1332: UserWarning: detected OSX with python3.8+; aliasing chunkize to chunkize_serial\n",
      "  warnings.warn(\"detected %s; aliasing chunkize to chunkize_serial\" % entity)\n"
     ]
    }
   ],
   "source": [
    "from gensim.corpora import WikiCorpus\n",
    "\n",
    "wiki_dump = \"data/enwiki-20250201-pages-articles-multistream1.xml-p1p41242.bz2\"\n",
    "\n",
    "# Load the Wikipedia corpus and process it into sentences\n",
    "wiki = WikiCorpus(wiki_dump, dictionary={})  # Setting dictionary to {} to disable dictionary building\n",
    "sentences = list(wiki.get_texts())  # Extracts sentences as lists of words"
   ]
  },
  {
   "cell_type": "code",
   "execution_count": 4,
   "metadata": {},
   "outputs": [
    {
     "data": {
      "text/plain": [
       "20669"
      ]
     },
     "execution_count": 4,
     "metadata": {},
     "output_type": "execute_result"
    }
   ],
   "source": [
    "len(sentences)"
   ]
  },
  {
   "cell_type": "markdown",
   "metadata": {},
   "source": [
    "#### Train a Gensim Word2Vec model"
   ]
  },
  {
   "cell_type": "markdown",
   "metadata": {},
   "source": [
    "<div style=\"padding:8px 0 8px 15px;border-left:3px solid #03befc;background-color:#F3F3F3; color: black\">\n",
    "    \n",
    "- 🎯 **Goal:** Train with `common_texts` dataset a Gensim word2vec model.<br>\n",
    "\n",
    "- 💻  **API:** You can use `gensim.models.Word2Vec` class.\n",
    "</div>"
   ]
  },
  {
   "cell_type": "code",
   "execution_count": 5,
   "metadata": {},
   "outputs": [],
   "source": [
    "# instantiate and train model\n",
    "w2v_model =  Word2Vec(sentences=sentences, min_count=1, workers=4, vector_size=200)"
   ]
  },
  {
   "cell_type": "code",
   "execution_count": 6,
   "metadata": {},
   "outputs": [
    {
     "data": {
      "text/plain": [
       "{'the': 0,\n",
       " 'of': 1,\n",
       " 'and': 2,\n",
       " 'in': 3,\n",
       " 'to': 4,\n",
       " 'is': 5,\n",
       " 'as': 6,\n",
       " 'was': 7,\n",
       " 'for': 8,\n",
       " 'by': 9,\n",
       " 'with': 10,\n",
       " 'that': 11,\n",
       " 'on': 12,\n",
       " 'from': 13,\n",
       " 'are': 14,\n",
       " 'it': 15,\n",
       " 'an': 16,\n",
       " 'at': 17,\n",
       " 'his': 18,\n",
       " 'or': 19,\n",
       " 'which': 20,\n",
       " 'be': 21,\n",
       " 'he': 22,\n",
       " 'were': 23,\n",
       " 'this': 24,\n",
       " 'also': 25,\n",
       " 'not': 26,\n",
       " 'have': 27,\n",
       " 'has': 28,\n",
       " 'had': 29,\n",
       " 'its': 30,\n",
       " 'their': 31,\n",
       " 'first': 32,\n",
       " 'one': 33,\n",
       " 'but': 34,\n",
       " 'other': 35,\n",
       " 'new': 36,\n",
       " 'they': 37,\n",
       " 'been': 38,\n",
       " 'after': 39,\n",
       " 'such': 40,\n",
       " 'american': 41,\n",
       " 'two': 42,\n",
       " 'who': 43,\n",
       " 'more': 44,\n",
       " 'all': 45,\n",
       " 'used': 46,\n",
       " 'most': 47,\n",
       " 'can': 48,\n",
       " 'may': 49,\n",
       " 'some': 50,\n",
       " 'into': 51,\n",
       " 'when': 52,\n",
       " 'during': 53,\n",
       " 'time': 54,\n",
       " 'th': 55,\n",
       " 'between': 56,\n",
       " 'there': 57,\n",
       " 'world': 58,\n",
       " 'than': 59,\n",
       " 'only': 60,\n",
       " 'these': 61,\n",
       " 'many': 62,\n",
       " 'would': 63,\n",
       " 'states': 64,\n",
       " 'war': 65,\n",
       " 'over': 66,\n",
       " 'united': 67,\n",
       " 'no': 68,\n",
       " 'while': 69,\n",
       " 'years': 70,\n",
       " 'state': 71,\n",
       " 'city': 72,\n",
       " 'about': 73,\n",
       " 'known': 74,\n",
       " 'both': 75,\n",
       " 'century': 76,\n",
       " 'year': 77,\n",
       " 'later': 78,\n",
       " 'use': 79,\n",
       " 'people': 80,\n",
       " 'including': 81,\n",
       " 'three': 82,\n",
       " 'her': 83,\n",
       " 'english': 84,\n",
       " 'where': 85,\n",
       " 'under': 86,\n",
       " 'early': 87,\n",
       " 'system': 88,\n",
       " 'government': 89,\n",
       " 'up': 90,\n",
       " 'through': 91,\n",
       " 'since': 92,\n",
       " 'called': 93,\n",
       " 'being': 94,\n",
       " 'however': 95,\n",
       " 'made': 96,\n",
       " 'if': 97,\n",
       " 'then': 98,\n",
       " 'national': 99,\n",
       " 'number': 100,\n",
       " 'became': 101,\n",
       " 'well': 102,\n",
       " 'part': 103,\n",
       " 'out': 104,\n",
       " 'them': 105,\n",
       " 'him': 106,\n",
       " 'general': 107,\n",
       " 'de': 108,\n",
       " 'university': 109,\n",
       " 'john': 110,\n",
       " 'french': 111,\n",
       " 'south': 112,\n",
       " 'film': 113,\n",
       " 'second': 114,\n",
       " 'british': 115,\n",
       " 'history': 116,\n",
       " 'high': 117,\n",
       " 'so': 118,\n",
       " 'any': 119,\n",
       " 'based': 120,\n",
       " 'before': 121,\n",
       " 'each': 122,\n",
       " 'against': 123,\n",
       " 'several': 124,\n",
       " 'often': 125,\n",
       " 'german': 126,\n",
       " 'day': 127,\n",
       " 'same': 128,\n",
       " 'because': 129,\n",
       " 'work': 130,\n",
       " 'north': 131,\n",
       " 'life': 132,\n",
       " 'king': 133,\n",
       " 'will': 134,\n",
       " 'international': 135,\n",
       " 'like': 136,\n",
       " 'see': 137,\n",
       " 'name': 138,\n",
       " 'until': 139,\n",
       " 'could': 140,\n",
       " 'president': 141,\n",
       " 'group': 142,\n",
       " 'series': 143,\n",
       " 'she': 144,\n",
       " 'party': 145,\n",
       " 'form': 146,\n",
       " 'country': 147,\n",
       " 'found': 148,\n",
       " 'example': 149,\n",
       " 'following': 150,\n",
       " 'although': 151,\n",
       " 'around': 152,\n",
       " 'four': 153,\n",
       " 'large': 154,\n",
       " 'power': 155,\n",
       " 'major': 156,\n",
       " 'march': 157,\n",
       " 'language': 158,\n",
       " 'ii': 159,\n",
       " 'modern': 160,\n",
       " 'according': 161,\n",
       " 'include': 162,\n",
       " 'january': 163,\n",
       " 'set': 164,\n",
       " 'end': 165,\n",
       " 'october': 166,\n",
       " 'june': 167,\n",
       " 'september': 168,\n",
       " 'population': 169,\n",
       " 'due': 170,\n",
       " 'july': 171,\n",
       " 'within': 172,\n",
       " 'those': 173,\n",
       " 'military': 174,\n",
       " 'december': 175,\n",
       " 'political': 176,\n",
       " 'different': 177,\n",
       " 'long': 178,\n",
       " 'another': 179,\n",
       " 'public': 180,\n",
       " 'using': 181,\n",
       " 'among': 182,\n",
       " 'game': 183,\n",
       " 'music': 184,\n",
       " 'area': 185,\n",
       " 'law': 186,\n",
       " 'common': 187,\n",
       " 'church': 188,\n",
       " 'began': 189,\n",
       " 'million': 190,\n",
       " 'april': 191,\n",
       " 'st': 192,\n",
       " 'us': 193,\n",
       " 'did': 194,\n",
       " 'november': 195,\n",
       " 'period': 196,\n",
       " 'august': 197,\n",
       " 'born': 198,\n",
       " 'even': 199,\n",
       " 'army': 200,\n",
       " 'west': 201,\n",
       " 'death': 202,\n",
       " 'player': 203,\n",
       " 'now': 204,\n",
       " 'air': 205,\n",
       " 'led': 206,\n",
       " 'great': 207,\n",
       " 'non': 208,\n",
       " 'countries': 209,\n",
       " 'much': 210,\n",
       " 'order': 211,\n",
       " 'european': 212,\n",
       " 'east': 213,\n",
       " 'what': 214,\n",
       " 'book': 215,\n",
       " 'february': 216,\n",
       " 'members': 217,\n",
       " 'york': 218,\n",
       " 'development': 219,\n",
       " 'island': 220,\n",
       " 'small': 221,\n",
       " 'own': 222,\n",
       " 'water': 223,\n",
       " 'published': 224,\n",
       " 'left': 225,\n",
       " 'term': 226,\n",
       " 'central': 227,\n",
       " 'house': 228,\n",
       " 'very': 229,\n",
       " 'family': 230,\n",
       " 'support': 231,\n",
       " 'human': 232,\n",
       " 'old': 233,\n",
       " 'union': 234,\n",
       " 'school': 235,\n",
       " 'still': 236,\n",
       " 'late': 237,\n",
       " 'roman': 238,\n",
       " 'do': 239,\n",
       " 'force': 240,\n",
       " 'further': 241,\n",
       " 'place': 242,\n",
       " 'company': 243,\n",
       " 'point': 244,\n",
       " 'established': 245,\n",
       " 'forces': 246,\n",
       " 'line': 247,\n",
       " 'said': 248,\n",
       " 'europe': 249,\n",
       " 'considered': 250,\n",
       " 'control': 251,\n",
       " 'home': 252,\n",
       " 'last': 253,\n",
       " 'main': 254,\n",
       " 'times': 255,\n",
       " 'without': 256,\n",
       " 'various': 257,\n",
       " 'file': 258,\n",
       " 'space': 259,\n",
       " 'team': 260,\n",
       " 'along': 261,\n",
       " 'western': 262,\n",
       " 'five': 263,\n",
       " 'france': 264,\n",
       " 'black': 265,\n",
       " 'age': 266,\n",
       " 'al': 267,\n",
       " 'list': 268,\n",
       " 'way': 269,\n",
       " 'white': 270,\n",
       " 'service': 271,\n",
       " 'empire': 272,\n",
       " 'single': 273,\n",
       " 'largest': 274,\n",
       " 'given': 275,\n",
       " 'former': 276,\n",
       " 'women': 277,\n",
       " 'back': 278,\n",
       " 'politician': 279,\n",
       " 'best': 280,\n",
       " 'london': 281,\n",
       " 'kingdom': 282,\n",
       " 'right': 283,\n",
       " 'local': 284,\n",
       " 'theory': 285,\n",
       " 'systems': 286,\n",
       " 'court': 287,\n",
       " 'region': 288,\n",
       " 'released': 289,\n",
       " 'total': 290,\n",
       " 'held': 291,\n",
       " 'minister': 292,\n",
       " 'production': 293,\n",
       " 'field': 294,\n",
       " 'important': 295,\n",
       " 'developed': 296,\n",
       " 'references': 297,\n",
       " 'william': 298,\n",
       " 'germany': 299,\n",
       " 'though': 300,\n",
       " 'third': 301,\n",
       " 'popular': 302,\n",
       " 'per': 303,\n",
       " 'original': 304,\n",
       " 'social': 305,\n",
       " 'battle': 306,\n",
       " 'england': 307,\n",
       " 'research': 308,\n",
       " 'included': 309,\n",
       " 'become': 310,\n",
       " 'relations': 311,\n",
       " 'less': 312,\n",
       " 'river': 313,\n",
       " 'make': 314,\n",
       " 'similar': 315,\n",
       " 'free': 316,\n",
       " 'usually': 317,\n",
       " 'land': 318,\n",
       " 'took': 319,\n",
       " 'data': 320,\n",
       " 'science': 321,\n",
       " 'case': 322,\n",
       " 'men': 323,\n",
       " 'economic': 324,\n",
       " 'games': 325,\n",
       " 'man': 326,\n",
       " 'role': 327,\n",
       " 'named': 328,\n",
       " 'near': 329,\n",
       " 'art': 330,\n",
       " 'italian': 331,\n",
       " 'season': 332,\n",
       " 'wrote': 333,\n",
       " 'soviet': 334,\n",
       " 'written': 335,\n",
       " 'china': 336,\n",
       " 'down': 337,\n",
       " 'republic': 338,\n",
       " 'light': 339,\n",
       " 'result': 340,\n",
       " 'present': 341,\n",
       " 'works': 342,\n",
       " 'process': 343,\n",
       " 'external': 344,\n",
       " 'others': 345,\n",
       " 'off': 346,\n",
       " 'show': 347,\n",
       " 'having': 348,\n",
       " 'version': 349,\n",
       " 'thus': 350,\n",
       " 'produced': 351,\n",
       " 'act': 352,\n",
       " 'red': 353,\n",
       " 'council': 354,\n",
       " 'northern': 355,\n",
       " 'god': 356,\n",
       " 'energy': 357,\n",
       " 'we': 358,\n",
       " 'sea': 359,\n",
       " 'type': 360,\n",
       " 'trade': 361,\n",
       " 'built': 362,\n",
       " 'groups': 363,\n",
       " 'jpg': 364,\n",
       " 'areas': 365,\n",
       " 'actor': 366,\n",
       " 'children': 367,\n",
       " 'few': 368,\n",
       " 'america': 369,\n",
       " 'short': 370,\n",
       " 'society': 371,\n",
       " 'son': 372,\n",
       " 'created': 373,\n",
       " 'league': 374,\n",
       " 'member': 375,\n",
       " 'greek': 376,\n",
       " 'how': 377,\n",
       " 'low': 378,\n",
       " 'foreign': 379,\n",
       " 'chinese': 380,\n",
       " 'does': 381,\n",
       " 'spanish': 382,\n",
       " 'press': 383,\n",
       " 'body': 384,\n",
       " 'natural': 385,\n",
       " 'center': 386,\n",
       " 'standard': 387,\n",
       " 'earth': 388,\n",
       " 'must': 389,\n",
       " 'every': 390,\n",
       " 'india': 391,\n",
       " 'level': 392,\n",
       " 'described': 393,\n",
       " 'james': 394,\n",
       " 'prime': 395,\n",
       " 'languages': 396,\n",
       " 'television': 397,\n",
       " 'author': 398,\n",
       " 'sometimes': 399,\n",
       " 'links': 400,\n",
       " 'species': 401,\n",
       " 'russian': 402,\n",
       " 'japanese': 403,\n",
       " 'play': 404,\n",
       " 'information': 405,\n",
       " 'study': 406,\n",
       " 'charles': 407,\n",
       " 'rights': 408,\n",
       " 'bc': 409,\n",
       " 'word': 410,\n",
       " 'six': 411,\n",
       " 'days': 412,\n",
       " 'islands': 413,\n",
       " 'either': 414,\n",
       " 'civil': 415,\n",
       " 'won': 416,\n",
       " 'half': 417,\n",
       " 'rather': 418,\n",
       " 'received': 419,\n",
       " 'emperor': 420,\n",
       " 'southern': 421,\n",
       " 'george': 422,\n",
       " 'just': 423,\n",
       " 'should': 424,\n",
       " 'eastern': 425,\n",
       " 'making': 426,\n",
       " 'official': 427,\n",
       " 'royal': 428,\n",
       " 'christian': 429,\n",
       " 'model': 430,\n",
       " 'px': 431,\n",
       " 'election': 432,\n",
       " 'played': 433,\n",
       " 'band': 434,\n",
       " 'generally': 435,\n",
       " 'came': 436,\n",
       " 'open': 437,\n",
       " 'office': 438,\n",
       " 'full': 439,\n",
       " 'died': 440,\n",
       " 'education': 441,\n",
       " 'culture': 442,\n",
       " 'take': 443,\n",
       " 'final': 444,\n",
       " 'movement': 445,\n",
       " 'father': 446,\n",
       " 'design': 447,\n",
       " 'side': 448,\n",
       " 'album': 449,\n",
       " 'continued': 450,\n",
       " 'instead': 451,\n",
       " 'change': 452,\n",
       " 'robert': 453,\n",
       " 'especially': 454,\n",
       " 'next': 455,\n",
       " 'special': 456,\n",
       " 'africa': 457,\n",
       " 'position': 458,\n",
       " 'possible': 459,\n",
       " 'range': 460,\n",
       " 'radio': 461,\n",
       " 'middle': 462,\n",
       " 'head': 463,\n",
       " 'religious': 464,\n",
       " 'significant': 465,\n",
       " 'class': 466,\n",
       " 'david': 467,\n",
       " 'top': 468,\n",
       " 'upon': 469,\n",
       " 'least': 470,\n",
       " 'building': 471,\n",
       " 'you': 472,\n",
       " 'function': 473,\n",
       " 'story': 474,\n",
       " 'singer': 475,\n",
       " 'program': 476,\n",
       " 'college': 477,\n",
       " 'henry': 478,\n",
       " 'seen': 479,\n",
       " 'higher': 480,\n",
       " 'african': 481,\n",
       " 'museum': 482,\n",
       " 'throughout': 483,\n",
       " 'founded': 484,\n",
       " 'lower': 485,\n",
       " 'computer': 486,\n",
       " 'japan': 487,\n",
       " 'star': 488,\n",
       " 'paul': 489,\n",
       " 'himself': 490,\n",
       " 'addition': 491,\n",
       " 'rate': 492,\n",
       " 'again': 493,\n",
       " 'ancient': 494,\n",
       " 'indian': 495,\n",
       " 'character': 496,\n",
       " 'related': 497,\n",
       " 'terms': 498,\n",
       " 'current': 499,\n",
       " 'record': 500,\n",
       " 'above': 501,\n",
       " 'across': 502,\n",
       " 'events': 503,\n",
       " 'traditional': 504,\n",
       " 'never': 505,\n",
       " 'project': 506,\n",
       " 'formed': 507,\n",
       " 'available': 508,\n",
       " 'community': 509,\n",
       " 'value': 510,\n",
       " 'canada': 511,\n",
       " 'network': 512,\n",
       " 'parts': 513,\n",
       " 'introduced': 514,\n",
       " 'canadian': 515,\n",
       " 'nations': 516,\n",
       " 'source': 517,\n",
       " 'numbers': 518,\n",
       " 'little': 519,\n",
       " 'director': 520,\n",
       " 'style': 521,\n",
       " 'embassy': 522,\n",
       " 'once': 523,\n",
       " 'co': 524,\n",
       " 'australian': 525,\n",
       " 'despite': 526,\n",
       " 'structure': 527,\n",
       " 'young': 528,\n",
       " 'rule': 529,\n",
       " 'elements': 530,\n",
       " 'forms': 531,\n",
       " 'australia': 532,\n",
       " 'together': 533,\n",
       " 'la': 534,\n",
       " 'capital': 535,\n",
       " 'notes': 536,\n",
       " 'park': 537,\n",
       " 'influence': 538,\n",
       " 'date': 539,\n",
       " 'italy': 540,\n",
       " 'almost': 541,\n",
       " 'text': 542,\n",
       " 'mass': 543,\n",
       " 'services': 544,\n",
       " 'latin': 545,\n",
       " 'books': 546,\n",
       " 'catholic': 547,\n",
       " 'real': 548,\n",
       " 'person': 549,\n",
       " 'followed': 550,\n",
       " 'thomas': 551,\n",
       " 'iii': 552,\n",
       " 'town': 553,\n",
       " 'lost': 554,\n",
       " 'means': 555,\n",
       " 'live': 556,\n",
       " 'good': 557,\n",
       " 'football': 558,\n",
       " 'health': 559,\n",
       " 'evidence': 560,\n",
       " 'market': 561,\n",
       " 'certain': 562,\n",
       " 'saint': 563,\n",
       " 'rock': 564,\n",
       " 'aircraft': 565,\n",
       " 'itself': 566,\n",
       " 'effect': 567,\n",
       " 'actress': 568,\n",
       " 'located': 569,\n",
       " 'increased': 570,\n",
       " 'base': 571,\n",
       " 'anti': 572,\n",
       " 'self': 573,\n",
       " 'media': 574,\n",
       " 'title': 575,\n",
       " 'russia': 576,\n",
       " 'sources': 577,\n",
       " 'view': 578,\n",
       " 'food': 579,\n",
       " 'independent': 580,\n",
       " 'historical': 581,\n",
       " 'song': 582,\n",
       " 'leading': 583,\n",
       " 'action': 584,\n",
       " 'associated': 585,\n",
       " 'nuclear': 586,\n",
       " 'technology': 587,\n",
       " 'policy': 588,\n",
       " 'beginning': 589,\n",
       " 'includes': 590,\n",
       " 'run': 591,\n",
       " 'particularly': 592,\n",
       " 'award': 593,\n",
       " 'thought': 594,\n",
       " 'whose': 595,\n",
       " 'code': 596,\n",
       " 'taken': 597,\n",
       " 'post': 598,\n",
       " 'uk': 599,\n",
       " 'hand': 600,\n",
       " 'particular': 601,\n",
       " 'films': 602,\n",
       " 'uses': 603,\n",
       " 'seven': 604,\n",
       " 'security': 605,\n",
       " 'words': 606,\n",
       " 'lead': 607,\n",
       " 'video': 608,\n",
       " 'federal': 609,\n",
       " 'announced': 610,\n",
       " 'studies': 611,\n",
       " 'cities': 612,\n",
       " 'industry': 613,\n",
       " 'nature': 614,\n",
       " 'county': 615,\n",
       " 'typically': 616,\n",
       " 'complex': 617,\n",
       " 'return': 618,\n",
       " 'far': 619,\n",
       " 'today': 620,\n",
       " 'independence': 621,\n",
       " 'britain': 622,\n",
       " 'average': 623,\n",
       " 'dutch': 624,\n",
       " 'era': 625,\n",
       " 'eventually': 626,\n",
       " 'economy': 627,\n",
       " 'business': 628,\n",
       " 'leader': 629,\n",
       " 'killed': 630,\n",
       " 'site': 631,\n",
       " 'size': 632,\n",
       " 'specific': 633,\n",
       " 'mid': 634,\n",
       " 'richard': 635,\n",
       " 'referred': 636,\n",
       " 'close': 637,\n",
       " 'months': 638,\n",
       " 'cases': 639,\n",
       " 'designed': 640,\n",
       " 'required': 641,\n",
       " 'majority': 642,\n",
       " 'elected': 643,\n",
       " 'meaning': 644,\n",
       " 'outside': 645,\n",
       " 'pope': 646,\n",
       " 'features': 647,\n",
       " 'remained': 648,\n",
       " 'surface': 649,\n",
       " 'strong': 650,\n",
       " 'performance': 651,\n",
       " 'allowed': 652,\n",
       " 'provided': 653,\n",
       " 'writer': 654,\n",
       " 'individual': 655,\n",
       " 'living': 656,\n",
       " 'jewish': 657,\n",
       " 'writing': 658,\n",
       " 'working': 659,\n",
       " 'primary': 660,\n",
       " 'provide': 661,\n",
       " 'division': 662,\n",
       " 'attack': 663,\n",
       " 'limited': 664,\n",
       " 'served': 665,\n",
       " 'religion': 666,\n",
       " 'club': 667,\n",
       " 'points': 668,\n",
       " 'private': 669,\n",
       " 'association': 670,\n",
       " 'louis': 671,\n",
       " 'territory': 672,\n",
       " 'cultural': 673,\n",
       " 'fire': 674,\n",
       " 'color': 675,\n",
       " 'defined': 676,\n",
       " 'parliament': 677,\n",
       " 'spain': 678,\n",
       " 'types': 679,\n",
       " 'rome': 680,\n",
       " 'able': 681,\n",
       " 'construction': 682,\n",
       " 'centre': 683,\n",
       " 're': 684,\n",
       " 'highest': 685,\n",
       " 'organization': 686,\n",
       " 'coast': 687,\n",
       " 'increase': 688,\n",
       " 'hall': 689,\n",
       " 'method': 690,\n",
       " 'moved': 691,\n",
       " 'san': 692,\n",
       " 'peter': 693,\n",
       " 'oil': 694,\n",
       " 'prince': 695,\n",
       " 'believed': 696,\n",
       " 'material': 697,\n",
       " 'legal': 698,\n",
       " 'governor': 699,\n",
       " 'started': 700,\n",
       " 'future': 701,\n",
       " 'station': 702,\n",
       " 'key': 703,\n",
       " 'changes': 704,\n",
       " 'physical': 705,\n",
       " 'navy': 706,\n",
       " 'treaty': 707,\n",
       " 'software': 708,\n",
       " 'chief': 709,\n",
       " 'growth': 710,\n",
       " 'green': 711,\n",
       " 'went': 712,\n",
       " 'sent': 713,\n",
       " 'release': 714,\n",
       " 'asia': 715,\n",
       " 'lines': 716,\n",
       " 'effects': 717,\n",
       " 'blue': 718,\n",
       " 'personal': 719,\n",
       " 'gave': 720,\n",
       " 'paris': 721,\n",
       " 'recorded': 722,\n",
       " 'stated': 723,\n",
       " 'via': 724,\n",
       " 'practice': 725,\n",
       " 'saw': 726,\n",
       " 'caused': 727,\n",
       " 'mother': 728,\n",
       " 'irish': 729,\n",
       " 'library': 730,\n",
       " 'front': 731,\n",
       " 'reported': 732,\n",
       " 'originally': 733,\n",
       " 'billion': 734,\n",
       " 'cause': 735,\n",
       " 'reading': 736,\n",
       " 'students': 737,\n",
       " 'results': 738,\n",
       " 'sound': 739,\n",
       " 'california': 740,\n",
       " 'commonly': 741,\n",
       " 'washington': 742,\n",
       " 'novel': 743,\n",
       " 'polish': 744,\n",
       " 'gold': 745,\n",
       " 'poet': 746,\n",
       " 'grand': 747,\n",
       " 'street': 748,\n",
       " 'academic': 749,\n",
       " 'therefore': 750,\n",
       " 'campaign': 751,\n",
       " 'whether': 752,\n",
       " 'operation': 753,\n",
       " 'proposed': 754,\n",
       " 'speed': 755,\n",
       " 'appeared': 756,\n",
       " 'greater': 757,\n",
       " 'my': 758,\n",
       " 'larger': 759,\n",
       " 'congress': 760,\n",
       " 'players': 761,\n",
       " 'ireland': 762,\n",
       " 'multiple': 763,\n",
       " 'constitution': 764,\n",
       " 'earlier': 765,\n",
       " 'board': 766,\n",
       " 'democratic': 767,\n",
       " 'complete': 768,\n",
       " 'producer': 769,\n",
       " 'subject': 770,\n",
       " 'peace': 771,\n",
       " 'interest': 772,\n",
       " 'might': 773,\n",
       " 'career': 774,\n",
       " 'access': 775,\n",
       " 'bank': 776,\n",
       " 'operations': 777,\n",
       " 'michael': 778,\n",
       " 'district': 779,\n",
       " 'unit': 780,\n",
       " 'collection': 781,\n",
       " 'online': 782,\n",
       " 'below': 783,\n",
       " 'names': 784,\n",
       " 'cross': 785,\n",
       " 'ad': 786,\n",
       " 'added': 787,\n",
       " 'characters': 788,\n",
       " 'native': 789,\n",
       " 'road': 790,\n",
       " 'scientific': 791,\n",
       " 'global': 792,\n",
       " 'image': 793,\n",
       " 'away': 794,\n",
       " 'troops': 795,\n",
       " 'brought': 796,\n",
       " 'mostly': 797,\n",
       " 'widely': 798,\n",
       " 'help': 799,\n",
       " 'returned': 800,\n",
       " 'length': 801,\n",
       " 'footballer': 802,\n",
       " 'replaced': 803,\n",
       " 'event': 804,\n",
       " 'wife': 805,\n",
       " 'too': 806,\n",
       " 'love': 807,\n",
       " 'agreement': 808,\n",
       " 'units': 809,\n",
       " 'female': 810,\n",
       " 'commercial': 811,\n",
       " 'ground': 812,\n",
       " 'pressure': 813,\n",
       " 'direct': 814,\n",
       " 'edition': 815,\n",
       " 'race': 816,\n",
       " 'letter': 817,\n",
       " 'police': 818,\n",
       " 'themselves': 819,\n",
       " 'ice': 820,\n",
       " 'concept': 821,\n",
       " 'produce': 822,\n",
       " 'success': 823,\n",
       " 'supported': 824,\n",
       " 'records': 825,\n",
       " 'israel': 826,\n",
       " 'eight': 827,\n",
       " 'conditions': 828,\n",
       " 'stage': 829,\n",
       " 'department': 830,\n",
       " 'approximately': 831,\n",
       " 'analysis': 832,\n",
       " 'remains': 833,\n",
       " 'gas': 834,\n",
       " 'response': 835,\n",
       " 'pre': 836,\n",
       " 'institute': 837,\n",
       " 'composer': 838,\n",
       " 'companies': 839,\n",
       " 'scale': 840,\n",
       " 'always': 841,\n",
       " 'mexico': 842,\n",
       " 'come': 843,\n",
       " 'towards': 844,\n",
       " 'literature': 845,\n",
       " 'longer': 846,\n",
       " 'active': 847,\n",
       " 'schools': 848,\n",
       " 'fact': 849,\n",
       " 'recent': 850,\n",
       " 'test': 851,\n",
       " 'night': 852,\n",
       " 'involved': 853,\n",
       " 'likely': 854,\n",
       " 'classical': 855,\n",
       " 'medical': 856,\n",
       " 'report': 857,\n",
       " 'laws': 858,\n",
       " 'ten': 859,\n",
       " 'status': 860,\n",
       " 'revolution': 861,\n",
       " 'additional': 862,\n",
       " 'directly': 863,\n",
       " 'authority': 864,\n",
       " 'duke': 865,\n",
       " 'sold': 866,\n",
       " 'signed': 867,\n",
       " 'relationship': 868,\n",
       " 'flight': 869,\n",
       " 'products': 870,\n",
       " 'metal': 871,\n",
       " 'percent': 872,\n",
       " 'examples': 873,\n",
       " 'temperature': 874,\n",
       " 'wide': 875,\n",
       " 'true': 876,\n",
       " 'issue': 877,\n",
       " 'poland': 878,\n",
       " 'problem': 879,\n",
       " 'lake': 880,\n",
       " 'summer': 881,\n",
       " 'issues': 882,\n",
       " 'product': 883,\n",
       " 'port': 884,\n",
       " 'numerous': 885,\n",
       " 'nation': 886,\n",
       " 'ever': 887,\n",
       " 'financial': 888,\n",
       " 'von': 889,\n",
       " 'our': 890,\n",
       " 'previous': 891,\n",
       " 'problems': 892,\n",
       " 'go': 893,\n",
       " 'regions': 894,\n",
       " 'climate': 895,\n",
       " 'arts': 896,\n",
       " 'cell': 897,\n",
       " 'performed': 898,\n",
       " 'parties': 899,\n",
       " 'create': 900,\n",
       " 'internet': 901,\n",
       " 'successful': 902,\n",
       " 'philosophy': 903,\n",
       " 'training': 904,\n",
       " 'queen': 905,\n",
       " 'idea': 906,\n",
       " 'becomes': 907,\n",
       " 'variety': 908,\n",
       " 'estimated': 909,\n",
       " 'smaller': 910,\n",
       " 'already': 911,\n",
       " 'sun': 912,\n",
       " 'airport': 913,\n",
       " 'tv': 914,\n",
       " 'mark': 915,\n",
       " 'put': 916,\n",
       " 'separate': 917,\n",
       " 'joseph': 918,\n",
       " 'volume': 919,\n",
       " 'digital': 920,\n",
       " 'need': 921,\n",
       " 'adopted': 922,\n",
       " 'basic': 923,\n",
       " 'committee': 924,\n",
       " 'shows': 925,\n",
       " 'soon': 926,\n",
       " 'alexander': 927,\n",
       " 'section': 928,\n",
       " 'rules': 929,\n",
       " 'initially': 930,\n",
       " 'nd': 931,\n",
       " 'property': 932,\n",
       " 'tradition': 933,\n",
       " 'article': 934,\n",
       " 'vote': 935,\n",
       " 'ship': 936,\n",
       " 'largely': 937,\n",
       " 'brother': 938,\n",
       " 'latter': 939,\n",
       " 'levels': 940,\n",
       " 'contains': 941,\n",
       " 'start': 942,\n",
       " 'memory': 943,\n",
       " 'command': 944,\n",
       " 'methods': 945,\n",
       " 'prize': 946,\n",
       " 'reached': 947,\n",
       " 'news': 948,\n",
       " 'starting': 949,\n",
       " 'episode': 950,\n",
       " 'smith': 951,\n",
       " 'border': 952,\n",
       " 'better': 953,\n",
       " 'discovered': 954,\n",
       " 'historian': 955,\n",
       " 'assembly': 956,\n",
       " 'nearly': 957,\n",
       " 'diplomatic': 958,\n",
       " 'functions': 959,\n",
       " 'opened': 960,\n",
       " 'province': 961,\n",
       " 'shown': 962,\n",
       " 'allow': 963,\n",
       " 'met': 964,\n",
       " 'origin': 965,\n",
       " 'machine': 966,\n",
       " 'lord': 967,\n",
       " 'transport': 968,\n",
       " 'claimed': 969,\n",
       " 'holy': 970,\n",
       " 'professional': 971,\n",
       " 'whom': 972,\n",
       " 'super': 973,\n",
       " 'baseball': 974,\n",
       " 'plan': 975,\n",
       " 'fiction': 976,\n",
       " 'dynasty': 977,\n",
       " 'regional': 978,\n",
       " 'basis': 979,\n",
       " 'woman': 980,\n",
       " 'upper': 981,\n",
       " 'fourth': 982,\n",
       " 'administration': 983,\n",
       " 'car': 984,\n",
       " 'mary': 985,\n",
       " 'taking': 986,\n",
       " 'primarily': 987,\n",
       " 'past': 988,\n",
       " 'compared': 989,\n",
       " 'married': 990,\n",
       " 'stories': 991,\n",
       " 'regular': 992,\n",
       " 'engine': 993,\n",
       " 'centuries': 994,\n",
       " 'cannot': 995,\n",
       " 'zealand': 996,\n",
       " 'imperial': 997,\n",
       " 'management': 998,\n",
       " 'defense': 999,\n",
       " ...}"
      ]
     },
     "execution_count": 6,
     "metadata": {},
     "output_type": "execute_result"
    }
   ],
   "source": [
    "# dict with vocabulary frequencies\n",
    "words = w2v_model.wv.key_to_index # wv Stores the words along wit their embeddings\n",
    "words"
   ]
  },
  {
   "cell_type": "markdown",
   "metadata": {},
   "source": [
    "#### Find word similarities"
   ]
  },
  {
   "cell_type": "code",
   "execution_count": 7,
   "metadata": {},
   "outputs": [
    {
     "name": "stdout",
     "output_type": "stream",
     "text": [
      "The vector length of the word is 200.\n"
     ]
    }
   ],
   "source": [
    "# explore embeddings\n",
    "vector = w2v_model.wv['computer']  # get numpy vector of a word\n",
    "print('The vector length of the word is {}.'.format(len(vector)))"
   ]
  },
  {
   "cell_type": "markdown",
   "metadata": {},
   "source": [
    "<div style=\"padding:8px 0 8px 15px;border-left:3px solid #03befc;background-color:#F3F3F3; color: black\">\n",
    "\n",
    "- 🎯 **Goal:** Use the trained word2vec model to find most similar words for token _\"computer\"_.\n",
    "- 💻 **API:** You can use Gensim's `.most_similar` function.\n",
    "\n",
    "</div>"
   ]
  },
  {
   "cell_type": "code",
   "execution_count": 25,
   "metadata": {},
   "outputs": [
    {
     "data": {
      "text/plain": [
       "[('computers', 0.7792786955833435),\n",
       " ('computing', 0.6876997947692871),\n",
       " ('mainframe', 0.6577265858650208),\n",
       " ('networked', 0.6454757452011108),\n",
       " ('software', 0.6453021764755249),\n",
       " ('microcomputer', 0.6409293413162231),\n",
       " ('hardware', 0.6279172301292419),\n",
       " ('pda', 0.619465708732605),\n",
       " ('supercomputer', 0.6166966557502747),\n",
       " ('handheld', 0.6151480078697205),\n",
       " ('microcontroller', 0.6142403483390808),\n",
       " ('hypercard', 0.6126970648765564),\n",
       " ('smartphone', 0.6089300513267517),\n",
       " ('bbs', 0.6084828972816467),\n",
       " ('spreadsheet', 0.6081040501594543),\n",
       " ('fpga', 0.5991455912590027),\n",
       " ('univac', 0.596089243888855),\n",
       " ('ibm', 0.5955408811569214),\n",
       " ('programmer', 0.5934540629386902),\n",
       " ('amiga', 0.5925117135047913)]"
      ]
     },
     "execution_count": 25,
     "metadata": {},
     "output_type": "execute_result"
    }
   ],
   "source": [
    "# print most similar words\n",
    "similar_words = w2v_model.wv.most_similar('computer', topn=20)\n",
    "similar_words"
   ]
  },
  {
   "cell_type": "markdown",
   "metadata": {},
   "source": [
    "<div style=\"padding:8px 0 8px 15px;border-left:3px solid gray;background-color:#F3F3F3; color: black\">\n",
    "\n",
    "#### Play around with inital settings\n",
    "\n",
    "- Re-train the model with different datasets ( [Wikipedia](https://radimrehurek.com/gensim/corpora/wikicorpus.html), [Opinosis](https://radimrehurek.com/gensim/corpora/opinosiscorpus.html) ) and vector sizes and run similarity with different top-n. How would you comment on the results?\n",
    "- Think about the limitations of the Word2vec approach.\n",
    "\n",
    "</div>"
   ]
  },
  {
   "cell_type": "markdown",
   "metadata": {},
   "source": [
    "***--- YOU CAN WRITE YOU ANSWER HERE ---***\n",
    "\n",
    "- Bigger datasets gives more accurate results\n",
    "- Smaller vector sizes creates smaller clusters but also changes the similarity distribution => more overfitting though?"
   ]
  },
  {
   "cell_type": "markdown",
   "metadata": {},
   "source": [
    "<a id=\"2\"></a>\n",
    "## 2. TASK B: Word embedding similarity\n",
    "\n",
    "For this task, we will use pre-trained word embedding models. \n",
    "\n",
    "**Word2Vec:** We will use once again Word2vec as in the previous question, but in this case we will load the pre-trained version of it that has been trained on a part of the Google News dataset (about 100 billion words). The model variant that we will use, contains 300-dimensional vectors for 3 million words and phrases.\n",
    "\n",
    "**GloVe:** We will also use GloVe word embeddings that have been pre-trained on 2B tweets, 27B tokens, 1.2M vocab, uncased. The model variant that we will use contains 100-dimensional vectors.\n",
    "\n",
    "Once we load the vector represenation of words, we will:\n",
    "- find similarities between group of words.\n",
    "- discover a very cool property of word embeddings through analogies.\n",
    "- evaluate their performance on how well they capture the semantics between words on the SimLex task.\n"
   ]
  },
  {
   "cell_type": "markdown",
   "metadata": {},
   "source": [
    "### 2.1 Using pre-trained word embedding models"
   ]
  },
  {
   "cell_type": "code",
   "execution_count": 8,
   "metadata": {},
   "outputs": [
    {
     "name": "stdout",
     "output_type": "stream",
     "text": [
      "['fasttext-wiki-news-subwords-300', 'conceptnet-numberbatch-17-06-300', 'word2vec-ruscorpora-300', 'word2vec-google-news-300', 'glove-wiki-gigaword-50', 'glove-wiki-gigaword-100', 'glove-wiki-gigaword-200', 'glove-wiki-gigaword-300', 'glove-twitter-25', 'glove-twitter-50', 'glove-twitter-100', 'glove-twitter-200', '__testing_word2vec-matrix-synopsis']\n"
     ]
    }
   ],
   "source": [
    "# Show all available models in gensim-data\n",
    "print(list(gensim.downloader.info()['models'].keys()))"
   ]
  },
  {
   "cell_type": "code",
   "execution_count": 9,
   "metadata": {},
   "outputs": [],
   "source": [
    "# Download the \"word2vec-google-news-300\" embeddings\n",
    "w2v_vectors = gensim.downloader.load('word2vec-google-news-300')"
   ]
  },
  {
   "cell_type": "code",
   "execution_count": 10,
   "metadata": {},
   "outputs": [],
   "source": [
    "# Download the \"glove-wiki-gigaword-100\" embeddings\n",
    "glove_vectors = gensim.downloader.load('glove-wiki-gigaword-100')"
   ]
  },
  {
   "cell_type": "markdown",
   "metadata": {},
   "source": [
    "The best way to understand a data is by visualizing them. We will use t-SNE to reduce the data with 300 dimensions to 2 dimensions, so that we can plot the data on our screens.\n",
    "t-SNE is a non-linear dimensionality reduction algorithm that attempts to represent high-dimensional data and the underlying relationships between vectors in a lower-dimensional space."
   ]
  },
  {
   "cell_type": "code",
   "execution_count": 11,
   "metadata": {},
   "outputs": [],
   "source": [
    "# visualization utility function. NO NEED TO CHANGE ANYTHING HERE\n",
    "sns.set_style('whitegrid')\n",
    "sns.set_theme(rc={'figure.figsize':(11.7,8.27)})\n",
    "\n",
    "def tsne_scatterplot(model, search_word, topn):\n",
    "    labels = [search_word]\n",
    "    tokens = [model[search_word]]\n",
    "    similar = [1]\n",
    "    close_words = model.similar_by_word(search_word, topn=topn)\n",
    "    for word in close_words:\n",
    "        tokens.append(model[word[0]])\n",
    "        labels.append(word[0])\n",
    "        similar.append(word[1])\n",
    "\n",
    "    tsne_model = TSNE(n_components=2, perplexity=topn, init='pca')\n",
    "    coordinates = tsne_model.fit_transform(np.array(tokens))\n",
    "    df = pd.DataFrame({'x': [x for x in coordinates[:, 0]],\n",
    "                       'y': [y for y in coordinates[:, 1]],\n",
    "                       'words': labels,\n",
    "                       'similarity': similar}\n",
    "                      )\n",
    "    fig, ax = plt.subplots()\n",
    "    plot = ax.scatter(df.x, df.y, c=df.similarity, cmap='Reds')\n",
    "    for i in range(len(df)):\n",
    "        ax.annotate(\"  {} ({:.2f})\".format(df.words[i].title(),\n",
    "                                           df.similarity[i]),\n",
    "                    (df.x[i], df.y[i]))\n",
    "\n",
    "    plt.colorbar(mappable=plot, ax=ax)\n",
    "    plt.title('t-SNE visualization for {}'.format(search_word))\n",
    "    plt.show()"
   ]
  },
  {
   "cell_type": "code",
   "execution_count": 12,
   "metadata": {},
   "outputs": [
    {
     "data": {
      "image/png": "[encoded data removed]",
      "text/plain": [
       "<Figure size 1170x827 with 2 Axes>"
      ]
     },
     "metadata": {},
     "output_type": "display_data"
    }
   ],
   "source": [
    "# visualize the most similar words for a given word.\n",
    "tsne_scatterplot(glove_vectors, \"computer\", 20)"
   ]
  },
  {
   "cell_type": "markdown",
   "metadata": {},
   "source": [
    "#### Interactive visualization\n",
    "\n",
    "In the following link, you can explore the state-of-the-art models in an interactive embedding visualization: https://projector.tensorflow.org/.\n",
    "\n",
    "Using the TensorBoard Embedding Projector, you can graphically represent high dimensional embeddings. This can be helpful in visualizing, examining, and understanding your embeddings.\n",
    "\n",
    "Give it a try! Test interesting clusters of similar words! "
   ]
  },
  {
   "cell_type": "markdown",
   "metadata": {},
   "source": [
    "### 2.2 Check word analogies\n",
    "\n",
    "The fact that we can analyze the use of words in language to deduce their meaning is a fundamental idea of [distributional semantics](https://en.wikipedia.org/wiki/Distributional_semantics). This is the inspiration behind many algorithms for learning numerical representations of words (word embeddings). An important aspect of these representations is the ability to solve word analogies of the form “A is to B what C is to X” using simple arithmetic. This is generally simplified as “King — Man + Woman $\\sim$ Queen.\n",
    "\n",
    "In this subquestion we will explore interesting relations that can be extracted from word embeddings. You will be given semantic relations and you need to implement the respective code using the embedding model."
   ]
  },
  {
   "cell_type": "markdown",
   "metadata": {},
   "source": [
    "<div style=\"padding:8px 0 8px 15px;border-left:3px solid #03befc;background-color:#F3F3F3; color: black\">\n",
    "\n",
    "- 🎯 **Goal:** Use the pre-trained GloVe embeddings to implement the following analogies.\n",
    "- 💻 **API:** You can use Gensim's `.most_similar` function.\n",
    "\n",
    "</div>"
   ]
  },
  {
   "cell_type": "markdown",
   "metadata": {},
   "source": [
    "**Analogy A:**  `King` — `Man` + `Woman` ~ `?`\n",
    "\n",
    "`?`: `Queen`"
   ]
  },
  {
   "cell_type": "code",
   "execution_count": null,
   "metadata": {},
   "outputs": [
    {
     "data": {
      "text/plain": [
       "[('king', 0.8551837205886841),\n",
       " ('queen', 0.7834413647651672),\n",
       " ('monarch', 0.6933802366256714)]"
      ]
     },
     "execution_count": 13,
     "metadata": {},
     "output_type": "execute_result"
    }
   ],
   "source": [
    "# Check the \"most similar words\", using the default \"cosine similarity\" measure. \n",
    "vect = glove_vectors['king'] - glove_vectors['man'] + glove_vectors['woman']\n",
    "glove_vectors.most_similar(vect,topn=3)"
   ]
  },
  {
   "cell_type": "markdown",
   "metadata": {},
   "source": [
    "**Analogy B:**  `France` — `Paris` + `Athens` ~ `?`\n",
    "\n",
    "`?`: `Greece`"
   ]
  },
  {
   "cell_type": "code",
   "execution_count": 14,
   "metadata": {},
   "outputs": [
    {
     "data": {
      "text/plain": [
       "[('greece', 0.7939996719360352),\n",
       " ('athens', 0.7247726321220398),\n",
       " ('finland', 0.6700672507286072)]"
      ]
     },
     "execution_count": 14,
     "metadata": {},
     "output_type": "execute_result"
    }
   ],
   "source": [
    "# Check the \"most similar words\", using the default \"cosine similarity\" measure. \n",
    "\n",
    "vect = glove_vectors['france'] - glove_vectors['paris'] + glove_vectors['athens']\n",
    "glove_vectors.most_similar(vect,topn=3)"
   ]
  },
  {
   "cell_type": "markdown",
   "metadata": {},
   "source": [
    "However, we should not forget that these models are trained in human generated language. Meaning that sociatital and demographic biases are inevitable. In the following example you will unfortunatelly witness these kind of biases that the model unitentionally proragates to its final output.\n",
    "\n",
    "Fortunately, extensive reaserch has been developed the last years to tackle this issue trying to de-bias the embeddings models. More regarding this topic will be covered in Week 11  when we will be talking about Ethics in NLP regarding Toxicity, Bias and Fairness.\n",
    "\n",
    "**Analogy C:**  `Doctor` - `Man` + `Woman` ~ `Nurse`"
   ]
  },
  {
   "cell_type": "code",
   "execution_count": 15,
   "metadata": {},
   "outputs": [
    {
     "data": {
      "text/plain": [
       "[('doctor', 0.8661208748817444),\n",
       " ('nurse', 0.7757077813148499),\n",
       " ('physician', 0.7128061652183533)]"
      ]
     },
     "execution_count": 15,
     "metadata": {},
     "output_type": "execute_result"
    }
   ],
   "source": [
    "# Check the \"most similar words\", using the default \"cosine similarity\" measure. \n",
    "vect = glove_vectors['doctor'] - glove_vectors['man'] + glove_vectors['woman']\n",
    "glove_vectors.most_similar(vect,topn=3)"
   ]
  },
  {
   "cell_type": "markdown",
   "metadata": {},
   "source": [
    "### 2.3 Evaluate different models with SimLex\n",
    "\n",
    "In this part of the exercise, we will evaluate the syntactic concreteness of the created vectors using their similarity. For this task, we will use the SimLex999 dataset which is a human-annotated dataset regarding the similarity of concepts of words.\n",
    "\n",
    "- 📄 Paper: https://aclanthology.org/J15-4004.pdf\n",
    "- 👾 More about the task: https://fh295.github.io/simlex.html\n",
    "\n",
    "> - Download the data from [here](https://fh295.github.io/SimLex-999.zip)\n",
    "> - Unzip the file and put the corresponding folder with the dataset in the same dir as this notebook\n",
    "\n",
    "SimLex-999 is a gold standard resource for the evaluation of models that learn the meaning of words and concepts. SimLex-999 provides a way of measuring how well models capture similarity, rather than relatedness or association.\n",
    "\n",
    "#### Dataset:\n",
    "SimLex-999.txt is a tab-separated plaintext file, where rows correspond to concept pairs and columns correspond to the properties of each pair.\n",
    "\n",
    "|Column | Description |\n",
    "|-------|:-------------|\n",
    "|word1| The first concept in the pair.|\n",
    "|word2| The second concept in the pair. Note that the order is only relevant to the column Assoc(USF). These values (free association scores) are asymmetric. All other values are symmetric properties independent of the ordering word1, word2.|\n",
    "|POS| The majority part-of-speech of the concept words, as determined by occurrence in the POS-tagged British National Corpus. Only pairs of matching POS are included in SimLex-999.|\n",
    "|SimLex999 | The SimLex999 similarity rating. Note that average annotator scores have been (linearly) mapped from the range [0,6] to the range [0,10] to match other datasets such as WordSim-353. |\n",
    "|conc(w1)| The concreteness rating of word1 on a scale of 1-7. Taken from the University of South Florida Free Association Norms database. |\n",
    "|conc(w2)| The concreteness rating of word2 on a scale of 1-7. Taken from the University of South Florida Free Association Norms database.|\n",
    "|concQ| The quartile the pair occupies based on the two concreteness ratings. Used for some analyses in the above paper.|\n",
    "|Assoc(USF)| The strength of free association from word1 to word2. Values are taken from the University of South Florida Free Association Dataset.|\n",
    "|SimAssoc333| Binary indicator of whether the pair is one of the 333 most associated in the dataset (according to Assoc(USF)). This subset of SimLex999 is often the hardest for computational models to capture because the noise from high association can confound the similarity rating. See the paper for more details.|\n",
    "|SD(SimLex)| The standard deviation of annotator scores when rating this pair. Low values indicate good agreement between the 15+ annotators on the similarity value SimLex999. Higher scores indicate less certainty. |"
   ]
  },
  {
   "cell_type": "markdown",
   "metadata": {},
   "source": [
    "We will be using the **`SimLex999` similarity column** to evaluate our word embeddings on this dataset. We will select the top 50 most similar pairs according to simlex999 column which a score from 0 to 10 regarding the similarities of the two words (columns: word1, word2) and it has been annotated by humans. On this subset of data, we will find the similarity score of the two words using our two pre-trained embedding models (Word2Vec, GloVe). "
   ]
  },
  {
   "cell_type": "code",
   "execution_count": 16,
   "metadata": {},
   "outputs": [
    {
     "data": {
      "application/vnd.microsoft.datawrangler.viewer.v0+json": {
       "columns": [
        {
         "name": "index",
         "rawType": "int64",
         "type": "integer"
        },
        {
         "name": "word1",
         "rawType": "object",
         "type": "string"
        },
        {
         "name": "word2",
         "rawType": "object",
         "type": "string"
        },
        {
         "name": "SimLex999",
         "rawType": "float64",
         "type": "float"
        }
       ],
       "conversionMethod": "pd.DataFrame",
       "ref": "bf59ccdd-85f0-4555-b85a-1e60c81f302b",
       "rows": [
        [
         "0",
         "old",
         "new",
         "1.58"
        ],
        [
         "1",
         "smart",
         "intelligent",
         "9.2"
        ],
        [
         "2",
         "hard",
         "difficult",
         "8.77"
        ],
        [
         "3",
         "happy",
         "cheerful",
         "9.55"
        ],
        [
         "4",
         "hard",
         "easy",
         "0.95"
        ]
       ],
       "shape": {
        "columns": 3,
        "rows": 5
       }
      },
      "text/html": [
       "<div>\n",
       "<style scoped>\n",
       "    .dataframe tbody tr th:only-of-type {\n",
       "        vertical-align: middle;\n",
       "    }\n",
       "\n",
       "    .dataframe tbody tr th {\n",
       "        vertical-align: top;\n",
       "    }\n",
       "\n",
       "    .dataframe thead th {\n",
       "        text-align: right;\n",
       "    }\n",
       "</style>\n",
       "<table border=\"1\" class=\"dataframe\">\n",
       "  <thead>\n",
       "    <tr style=\"text-align: right;\">\n",
       "      <th></th>\n",
       "      <th>word1</th>\n",
       "      <th>word2</th>\n",
       "      <th>SimLex999</th>\n",
       "    </tr>\n",
       "  </thead>\n",
       "  <tbody>\n",
       "    <tr>\n",
       "      <th>0</th>\n",
       "      <td>old</td>\n",
       "      <td>new</td>\n",
       "      <td>1.58</td>\n",
       "    </tr>\n",
       "    <tr>\n",
       "      <th>1</th>\n",
       "      <td>smart</td>\n",
       "      <td>intelligent</td>\n",
       "      <td>9.20</td>\n",
       "    </tr>\n",
       "    <tr>\n",
       "      <th>2</th>\n",
       "      <td>hard</td>\n",
       "      <td>difficult</td>\n",
       "      <td>8.77</td>\n",
       "    </tr>\n",
       "    <tr>\n",
       "      <th>3</th>\n",
       "      <td>happy</td>\n",
       "      <td>cheerful</td>\n",
       "      <td>9.55</td>\n",
       "    </tr>\n",
       "    <tr>\n",
       "      <th>4</th>\n",
       "      <td>hard</td>\n",
       "      <td>easy</td>\n",
       "      <td>0.95</td>\n",
       "    </tr>\n",
       "  </tbody>\n",
       "</table>\n",
       "</div>"
      ],
      "text/plain": [
       "   word1        word2  SimLex999\n",
       "0    old          new       1.58\n",
       "1  smart  intelligent       9.20\n",
       "2   hard    difficult       8.77\n",
       "3  happy     cheerful       9.55\n",
       "4   hard         easy       0.95"
      ]
     },
     "execution_count": 16,
     "metadata": {},
     "output_type": "execute_result"
    }
   ],
   "source": [
    "# read data\n",
    "simlex = pd.read_csv('data/SimLex-999/SimLex-999.txt', delimiter='\\t')\n",
    "simlex = simlex[['word1', 'word2', 'SimLex999']]\n",
    "simlex.head()"
   ]
  },
  {
   "cell_type": "markdown",
   "metadata": {},
   "source": [
    "<div style=\"padding:8px 0 8px 15px;border-left:3px solid #03befc;background-color:#F3F3F3; color: black\">\n",
    "\n",
    "- 🎯 **Goal:** Print the min, avg and max values of SimLex999 score.\n",
    "\n",
    "</div>"
   ]
  },
  {
   "cell_type": "code",
   "execution_count": 17,
   "metadata": {},
   "outputs": [
    {
     "data": {
      "application/vnd.microsoft.datawrangler.viewer.v0+json": {
       "columns": [
        {
         "name": "index",
         "rawType": "object",
         "type": "string"
        },
        {
         "name": "SimLex999",
         "rawType": "float64",
         "type": "float"
        }
       ],
       "conversionMethod": "pd.DataFrame",
       "ref": "44e63995-666d-4a91-9433-0477217ed310",
       "rows": [
        [
         "count",
         "999.0"
        ],
        [
         "mean",
         "4.561571571571572"
        ],
        [
         "std",
         "2.614663412785085"
        ],
        [
         "min",
         "0.23"
        ],
        [
         "25%",
         "2.38"
        ],
        [
         "50%",
         "4.67"
        ],
        [
         "75%",
         "6.75"
        ],
        [
         "max",
         "9.8"
        ]
       ],
       "shape": {
        "columns": 1,
        "rows": 8
       }
      },
      "text/html": [
       "<div>\n",
       "<style scoped>\n",
       "    .dataframe tbody tr th:only-of-type {\n",
       "        vertical-align: middle;\n",
       "    }\n",
       "\n",
       "    .dataframe tbody tr th {\n",
       "        vertical-align: top;\n",
       "    }\n",
       "\n",
       "    .dataframe thead th {\n",
       "        text-align: right;\n",
       "    }\n",
       "</style>\n",
       "<table border=\"1\" class=\"dataframe\">\n",
       "  <thead>\n",
       "    <tr style=\"text-align: right;\">\n",
       "      <th></th>\n",
       "      <th>SimLex999</th>\n",
       "    </tr>\n",
       "  </thead>\n",
       "  <tbody>\n",
       "    <tr>\n",
       "      <th>count</th>\n",
       "      <td>999.000000</td>\n",
       "    </tr>\n",
       "    <tr>\n",
       "      <th>mean</th>\n",
       "      <td>4.561572</td>\n",
       "    </tr>\n",
       "    <tr>\n",
       "      <th>std</th>\n",
       "      <td>2.614663</td>\n",
       "    </tr>\n",
       "    <tr>\n",
       "      <th>min</th>\n",
       "      <td>0.230000</td>\n",
       "    </tr>\n",
       "    <tr>\n",
       "      <th>25%</th>\n",
       "      <td>2.380000</td>\n",
       "    </tr>\n",
       "    <tr>\n",
       "      <th>50%</th>\n",
       "      <td>4.670000</td>\n",
       "    </tr>\n",
       "    <tr>\n",
       "      <th>75%</th>\n",
       "      <td>6.750000</td>\n",
       "    </tr>\n",
       "    <tr>\n",
       "      <th>max</th>\n",
       "      <td>9.800000</td>\n",
       "    </tr>\n",
       "  </tbody>\n",
       "</table>\n",
       "</div>"
      ],
      "text/plain": [
       "        SimLex999\n",
       "count  999.000000\n",
       "mean     4.561572\n",
       "std      2.614663\n",
       "min      0.230000\n",
       "25%      2.380000\n",
       "50%      4.670000\n",
       "75%      6.750000\n",
       "max      9.800000"
      ]
     },
     "execution_count": 17,
     "metadata": {},
     "output_type": "execute_result"
    }
   ],
   "source": [
    "# stats on the SimLex999 similarity score\n",
    "simlex.describe()"
   ]
  },
  {
   "cell_type": "markdown",
   "metadata": {},
   "source": [
    "<div style=\"padding:8px 0 8px 15px;border-left:3px solid #03befc;background-color:#F3F3F3; color: black\">\n",
    "\n",
    "- 🎯 **Goal:** Select the top 50 pairs with the highest SimLex similarity score.\n",
    "</div>"
   ]
  },
  {
   "cell_type": "code",
   "execution_count": 34,
   "metadata": {},
   "outputs": [
    {
     "data": {
      "application/vnd.microsoft.datawrangler.viewer.v0+json": {
       "columns": [
        {
         "name": "index",
         "rawType": "int64",
         "type": "integer"
        },
        {
         "name": "word1",
         "rawType": "object",
         "type": "string"
        },
        {
         "name": "word2",
         "rawType": "object",
         "type": "string"
        },
        {
         "name": "SimLex999",
         "rawType": "float64",
         "type": "float"
        }
       ],
       "conversionMethod": "pd.DataFrame",
       "ref": "788dceb6-04e5-487c-9bdc-c6472a0efd4b",
       "rows": [
        [
         "782",
         "vanish",
         "disappear",
         "9.8"
        ],
        [
         "22",
         "quick",
         "rapid",
         "9.7"
        ],
        [
         "205",
         "creator",
         "maker",
         "9.62"
        ],
        [
         "8",
         "stupid",
         "dumb",
         "9.58"
        ],
        [
         "16",
         "insane",
         "crazy",
         "9.57"
        ],
        [
         "42",
         "large",
         "big",
         "9.55"
        ],
        [
         "3",
         "happy",
         "cheerful",
         "9.55"
        ],
        [
         "140",
         "cow",
         "cattle",
         "9.52"
        ],
        [
         "134",
         "area",
         "region",
         "9.47"
        ],
        [
         "18",
         "large",
         "huge",
         "9.47"
        ],
        [
         "28",
         "simple",
         "easy",
         "9.4"
        ],
        [
         "71",
         "bizarre",
         "strange",
         "9.37"
        ],
        [
         "121",
         "student",
         "pupil",
         "9.35"
        ],
        [
         "234",
         "attorney",
         "lawyer",
         "9.35"
        ],
        [
         "781",
         "occur",
         "happen",
         "9.32"
        ],
        [
         "162",
         "hallway",
         "corridor",
         "9.28"
        ],
        [
         "799",
         "inform",
         "notify",
         "9.25"
        ],
        [
         "128",
         "teacher",
         "instructor",
         "9.25"
        ],
        [
         "1",
         "smart",
         "intelligent",
         "9.2"
        ],
        [
         "143",
         "taxi",
         "cab",
         "9.2"
        ],
        [
         "34",
         "weird",
         "odd",
         "9.2"
        ],
        [
         "529",
         "drizzle",
         "rain",
         "9.17"
        ],
        [
         "65",
         "scarce",
         "rare",
         "9.17"
        ],
        [
         "6",
         "happy",
         "glad",
         "9.17"
        ],
        [
         "786",
         "protect",
         "defend",
         "9.13"
        ],
        [
         "784",
         "plead",
         "beg",
         "9.08"
        ],
        [
         "885",
         "declare",
         "announce",
         "9.08"
        ],
        [
         "298",
         "boundary",
         "border",
         "9.08"
        ],
        [
         "165",
         "cop",
         "sheriff",
         "9.05"
        ],
        [
         "442",
         "adversary",
         "opponent",
         "9.05"
        ],
        [
         "352",
         "pact",
         "agreement",
         "9.02"
        ],
        [
         "385",
         "corporation",
         "business",
         "9.02"
        ],
        [
         "236",
         "business",
         "company",
         "9.02"
        ],
        [
         "25",
         "strange",
         "odd",
         "9.02"
        ],
        [
         "186",
         "victory",
         "triumph",
         "8.98"
        ],
        [
         "265",
         "abundance",
         "plenty",
         "8.97"
        ],
        [
         "59",
         "essential",
         "necessary",
         "8.97"
        ],
        [
         "9",
         "weird",
         "strange",
         "8.93"
        ],
        [
         "592",
         "journey",
         "trip",
         "8.88"
        ],
        [
         "370",
         "physician",
         "doctor",
         "8.88"
        ],
        [
         "816",
         "decide",
         "choose",
         "8.87"
        ],
        [
         "541",
         "task",
         "job",
         "8.87"
        ],
        [
         "129",
         "movie",
         "film",
         "8.87"
        ],
        [
         "819",
         "roam",
         "wander",
         "8.83"
        ],
        [
         "285",
         "shore",
         "coast",
         "8.83"
        ],
        [
         "839",
         "acquire",
         "get",
         "8.82"
        ],
        [
         "945",
         "contemplate",
         "think",
         "8.82"
        ],
        [
         "62",
         "crucial",
         "important",
         "8.82"
        ],
        [
         "303",
         "heroine",
         "hero",
         "8.78"
        ],
        [
         "120",
         "friend",
         "buddy",
         "8.78"
        ]
       ],
       "shape": {
        "columns": 3,
        "rows": 50
       }
      },
      "text/html": [
       "<div>\n",
       "<style scoped>\n",
       "    .dataframe tbody tr th:only-of-type {\n",
       "        vertical-align: middle;\n",
       "    }\n",
       "\n",
       "    .dataframe tbody tr th {\n",
       "        vertical-align: top;\n",
       "    }\n",
       "\n",
       "    .dataframe thead th {\n",
       "        text-align: right;\n",
       "    }\n",
       "</style>\n",
       "<table border=\"1\" class=\"dataframe\">\n",
       "  <thead>\n",
       "    <tr style=\"text-align: right;\">\n",
       "      <th></th>\n",
       "      <th>word1</th>\n",
       "      <th>word2</th>\n",
       "      <th>SimLex999</th>\n",
       "    </tr>\n",
       "  </thead>\n",
       "  <tbody>\n",
       "    <tr>\n",
       "      <th>782</th>\n",
       "      <td>vanish</td>\n",
       "      <td>disappear</td>\n",
       "      <td>9.80</td>\n",
       "    </tr>\n",
       "    <tr>\n",
       "      <th>22</th>\n",
       "      <td>quick</td>\n",
       "      <td>rapid</td>\n",
       "      <td>9.70</td>\n",
       "    </tr>\n",
       "    <tr>\n",
       "      <th>205</th>\n",
       "      <td>creator</td>\n",
       "      <td>maker</td>\n",
       "      <td>9.62</td>\n",
       "    </tr>\n",
       "    <tr>\n",
       "      <th>8</th>\n",
       "      <td>stupid</td>\n",
       "      <td>dumb</td>\n",
       "      <td>9.58</td>\n",
       "    </tr>\n",
       "    <tr>\n",
       "      <th>16</th>\n",
       "      <td>insane</td>\n",
       "      <td>crazy</td>\n",
       "      <td>9.57</td>\n",
       "    </tr>\n",
       "    <tr>\n",
       "      <th>42</th>\n",
       "      <td>large</td>\n",
       "      <td>big</td>\n",
       "      <td>9.55</td>\n",
       "    </tr>\n",
       "    <tr>\n",
       "      <th>3</th>\n",
       "      <td>happy</td>\n",
       "      <td>cheerful</td>\n",
       "      <td>9.55</td>\n",
       "    </tr>\n",
       "    <tr>\n",
       "      <th>140</th>\n",
       "      <td>cow</td>\n",
       "      <td>cattle</td>\n",
       "      <td>9.52</td>\n",
       "    </tr>\n",
       "    <tr>\n",
       "      <th>134</th>\n",
       "      <td>area</td>\n",
       "      <td>region</td>\n",
       "      <td>9.47</td>\n",
       "    </tr>\n",
       "    <tr>\n",
       "      <th>18</th>\n",
       "      <td>large</td>\n",
       "      <td>huge</td>\n",
       "      <td>9.47</td>\n",
       "    </tr>\n",
       "    <tr>\n",
       "      <th>28</th>\n",
       "      <td>simple</td>\n",
       "      <td>easy</td>\n",
       "      <td>9.40</td>\n",
       "    </tr>\n",
       "    <tr>\n",
       "      <th>71</th>\n",
       "      <td>bizarre</td>\n",
       "      <td>strange</td>\n",
       "      <td>9.37</td>\n",
       "    </tr>\n",
       "    <tr>\n",
       "      <th>121</th>\n",
       "      <td>student</td>\n",
       "      <td>pupil</td>\n",
       "      <td>9.35</td>\n",
       "    </tr>\n",
       "    <tr>\n",
       "      <th>234</th>\n",
       "      <td>attorney</td>\n",
       "      <td>lawyer</td>\n",
       "      <td>9.35</td>\n",
       "    </tr>\n",
       "    <tr>\n",
       "      <th>781</th>\n",
       "      <td>occur</td>\n",
       "      <td>happen</td>\n",
       "      <td>9.32</td>\n",
       "    </tr>\n",
       "    <tr>\n",
       "      <th>162</th>\n",
       "      <td>hallway</td>\n",
       "      <td>corridor</td>\n",
       "      <td>9.28</td>\n",
       "    </tr>\n",
       "    <tr>\n",
       "      <th>799</th>\n",
       "      <td>inform</td>\n",
       "      <td>notify</td>\n",
       "      <td>9.25</td>\n",
       "    </tr>\n",
       "    <tr>\n",
       "      <th>128</th>\n",
       "      <td>teacher</td>\n",
       "      <td>instructor</td>\n",
       "      <td>9.25</td>\n",
       "    </tr>\n",
       "    <tr>\n",
       "      <th>1</th>\n",
       "      <td>smart</td>\n",
       "      <td>intelligent</td>\n",
       "      <td>9.20</td>\n",
       "    </tr>\n",
       "    <tr>\n",
       "      <th>143</th>\n",
       "      <td>taxi</td>\n",
       "      <td>cab</td>\n",
       "      <td>9.20</td>\n",
       "    </tr>\n",
       "    <tr>\n",
       "      <th>34</th>\n",
       "      <td>weird</td>\n",
       "      <td>odd</td>\n",
       "      <td>9.20</td>\n",
       "    </tr>\n",
       "    <tr>\n",
       "      <th>529</th>\n",
       "      <td>drizzle</td>\n",
       "      <td>rain</td>\n",
       "      <td>9.17</td>\n",
       "    </tr>\n",
       "    <tr>\n",
       "      <th>65</th>\n",
       "      <td>scarce</td>\n",
       "      <td>rare</td>\n",
       "      <td>9.17</td>\n",
       "    </tr>\n",
       "    <tr>\n",
       "      <th>6</th>\n",
       "      <td>happy</td>\n",
       "      <td>glad</td>\n",
       "      <td>9.17</td>\n",
       "    </tr>\n",
       "    <tr>\n",
       "      <th>786</th>\n",
       "      <td>protect</td>\n",
       "      <td>defend</td>\n",
       "      <td>9.13</td>\n",
       "    </tr>\n",
       "    <tr>\n",
       "      <th>784</th>\n",
       "      <td>plead</td>\n",
       "      <td>beg</td>\n",
       "      <td>9.08</td>\n",
       "    </tr>\n",
       "    <tr>\n",
       "      <th>885</th>\n",
       "      <td>declare</td>\n",
       "      <td>announce</td>\n",
       "      <td>9.08</td>\n",
       "    </tr>\n",
       "    <tr>\n",
       "      <th>298</th>\n",
       "      <td>boundary</td>\n",
       "      <td>border</td>\n",
       "      <td>9.08</td>\n",
       "    </tr>\n",
       "    <tr>\n",
       "      <th>165</th>\n",
       "      <td>cop</td>\n",
       "      <td>sheriff</td>\n",
       "      <td>9.05</td>\n",
       "    </tr>\n",
       "    <tr>\n",
       "      <th>442</th>\n",
       "      <td>adversary</td>\n",
       "      <td>opponent</td>\n",
       "      <td>9.05</td>\n",
       "    </tr>\n",
       "    <tr>\n",
       "      <th>352</th>\n",
       "      <td>pact</td>\n",
       "      <td>agreement</td>\n",
       "      <td>9.02</td>\n",
       "    </tr>\n",
       "    <tr>\n",
       "      <th>385</th>\n",
       "      <td>corporation</td>\n",
       "      <td>business</td>\n",
       "      <td>9.02</td>\n",
       "    </tr>\n",
       "    <tr>\n",
       "      <th>236</th>\n",
       "      <td>business</td>\n",
       "      <td>company</td>\n",
       "      <td>9.02</td>\n",
       "    </tr>\n",
       "    <tr>\n",
       "      <th>25</th>\n",
       "      <td>strange</td>\n",
       "      <td>odd</td>\n",
       "      <td>9.02</td>\n",
       "    </tr>\n",
       "    <tr>\n",
       "      <th>186</th>\n",
       "      <td>victory</td>\n",
       "      <td>triumph</td>\n",
       "      <td>8.98</td>\n",
       "    </tr>\n",
       "    <tr>\n",
       "      <th>265</th>\n",
       "      <td>abundance</td>\n",
       "      <td>plenty</td>\n",
       "      <td>8.97</td>\n",
       "    </tr>\n",
       "    <tr>\n",
       "      <th>59</th>\n",
       "      <td>essential</td>\n",
       "      <td>necessary</td>\n",
       "      <td>8.97</td>\n",
       "    </tr>\n",
       "    <tr>\n",
       "      <th>9</th>\n",
       "      <td>weird</td>\n",
       "      <td>strange</td>\n",
       "      <td>8.93</td>\n",
       "    </tr>\n",
       "    <tr>\n",
       "      <th>592</th>\n",
       "      <td>journey</td>\n",
       "      <td>trip</td>\n",
       "      <td>8.88</td>\n",
       "    </tr>\n",
       "    <tr>\n",
       "      <th>370</th>\n",
       "      <td>physician</td>\n",
       "      <td>doctor</td>\n",
       "      <td>8.88</td>\n",
       "    </tr>\n",
       "    <tr>\n",
       "      <th>816</th>\n",
       "      <td>decide</td>\n",
       "      <td>choose</td>\n",
       "      <td>8.87</td>\n",
       "    </tr>\n",
       "    <tr>\n",
       "      <th>541</th>\n",
       "      <td>task</td>\n",
       "      <td>job</td>\n",
       "      <td>8.87</td>\n",
       "    </tr>\n",
       "    <tr>\n",
       "      <th>129</th>\n",
       "      <td>movie</td>\n",
       "      <td>film</td>\n",
       "      <td>8.87</td>\n",
       "    </tr>\n",
       "    <tr>\n",
       "      <th>819</th>\n",
       "      <td>roam</td>\n",
       "      <td>wander</td>\n",
       "      <td>8.83</td>\n",
       "    </tr>\n",
       "    <tr>\n",
       "      <th>285</th>\n",
       "      <td>shore</td>\n",
       "      <td>coast</td>\n",
       "      <td>8.83</td>\n",
       "    </tr>\n",
       "    <tr>\n",
       "      <th>839</th>\n",
       "      <td>acquire</td>\n",
       "      <td>get</td>\n",
       "      <td>8.82</td>\n",
       "    </tr>\n",
       "    <tr>\n",
       "      <th>945</th>\n",
       "      <td>contemplate</td>\n",
       "      <td>think</td>\n",
       "      <td>8.82</td>\n",
       "    </tr>\n",
       "    <tr>\n",
       "      <th>62</th>\n",
       "      <td>crucial</td>\n",
       "      <td>important</td>\n",
       "      <td>8.82</td>\n",
       "    </tr>\n",
       "    <tr>\n",
       "      <th>303</th>\n",
       "      <td>heroine</td>\n",
       "      <td>hero</td>\n",
       "      <td>8.78</td>\n",
       "    </tr>\n",
       "    <tr>\n",
       "      <th>120</th>\n",
       "      <td>friend</td>\n",
       "      <td>buddy</td>\n",
       "      <td>8.78</td>\n",
       "    </tr>\n",
       "  </tbody>\n",
       "</table>\n",
       "</div>"
      ],
      "text/plain": [
       "           word1        word2  SimLex999\n",
       "782       vanish    disappear       9.80\n",
       "22         quick        rapid       9.70\n",
       "205      creator        maker       9.62\n",
       "8         stupid         dumb       9.58\n",
       "16        insane        crazy       9.57\n",
       "42         large          big       9.55\n",
       "3          happy     cheerful       9.55\n",
       "140          cow       cattle       9.52\n",
       "134         area       region       9.47\n",
       "18         large         huge       9.47\n",
       "28        simple         easy       9.40\n",
       "71       bizarre      strange       9.37\n",
       "121      student        pupil       9.35\n",
       "234     attorney       lawyer       9.35\n",
       "781        occur       happen       9.32\n",
       "162      hallway     corridor       9.28\n",
       "799       inform       notify       9.25\n",
       "128      teacher   instructor       9.25\n",
       "1          smart  intelligent       9.20\n",
       "143         taxi          cab       9.20\n",
       "34         weird          odd       9.20\n",
       "529      drizzle         rain       9.17\n",
       "65        scarce         rare       9.17\n",
       "6          happy         glad       9.17\n",
       "786      protect       defend       9.13\n",
       "784        plead          beg       9.08\n",
       "885      declare     announce       9.08\n",
       "298     boundary       border       9.08\n",
       "165          cop      sheriff       9.05\n",
       "442    adversary     opponent       9.05\n",
       "352         pact    agreement       9.02\n",
       "385  corporation     business       9.02\n",
       "236     business      company       9.02\n",
       "25       strange          odd       9.02\n",
       "186      victory      triumph       8.98\n",
       "265    abundance       plenty       8.97\n",
       "59     essential    necessary       8.97\n",
       "9          weird      strange       8.93\n",
       "592      journey         trip       8.88\n",
       "370    physician       doctor       8.88\n",
       "816       decide       choose       8.87\n",
       "541         task          job       8.87\n",
       "129        movie         film       8.87\n",
       "819         roam       wander       8.83\n",
       "285        shore        coast       8.83\n",
       "839      acquire          get       8.82\n",
       "945  contemplate        think       8.82\n",
       "62       crucial    important       8.82\n",
       "303      heroine         hero       8.78\n",
       "120       friend        buddy       8.78"
      ]
     },
     "execution_count": 34,
     "metadata": {},
     "output_type": "execute_result"
    }
   ],
   "source": [
    "# select a subset of word-pairs with the highest similiarity score given by annotators\n",
    "simlex_similar_pairs = simlex.sort_values(by='SimLex999', ascending=False).head(50)\n",
    "simlex_similar_pairs"
   ]
  },
  {
   "cell_type": "markdown",
   "metadata": {},
   "source": [
    "<div style=\"padding:8px 0 8px 15px;border-left:3px solid #03befc;background-color:#F3F3F3; color: black\">\n",
    "\n",
    "- 🎯 **Goal:** For each word pair from `simlex_similar_pairs`, compute the similarity between the GloVe embeddings (also Word2Vec embeddings) of the words.\n",
    "- 💻 **API:** You can use Gensim's `.similarity` function.\n",
    "\n",
    "</div>"
   ]
  },
  {
   "cell_type": "code",
   "execution_count": 39,
   "metadata": {},
   "outputs": [],
   "source": [
    "# computes the similarities of each pair using each word embedding model\n",
    "\n",
    "similarities = simlex_similar_pairs\n",
    "similarities['similarity_glove'] = similarities.apply(lambda row: glove_vectors.similarity(row['word1'], row['word2']), axis=1)\n",
    "similarities['similarity_w2v'] = similarities.apply(lambda row: w2v_vectors.similarity(row['word1'], row['word2']), axis=1)\n"
   ]
  },
  {
   "cell_type": "code",
   "execution_count": 40,
   "metadata": {},
   "outputs": [
    {
     "data": {
      "application/vnd.microsoft.datawrangler.viewer.v0+json": {
       "columns": [
        {
         "name": "index",
         "rawType": "int64",
         "type": "integer"
        },
        {
         "name": "word1",
         "rawType": "object",
         "type": "string"
        },
        {
         "name": "word2",
         "rawType": "object",
         "type": "string"
        },
        {
         "name": "SimLex999",
         "rawType": "float64",
         "type": "float"
        },
        {
         "name": "GloVe",
         "rawType": "float32",
         "type": "float"
        },
        {
         "name": "Word2Vec",
         "rawType": "float32",
         "type": "float"
        },
        {
         "name": "similarity_glove",
         "rawType": "float32",
         "type": "float"
        },
        {
         "name": "similarity_w2v",
         "rawType": "float32",
         "type": "float"
        }
       ],
       "conversionMethod": "pd.DataFrame",
       "ref": "e2e347fc-f7f8-4b07-a087-2c65428d7770",
       "rows": [
        [
         "782",
         "vanish",
         "disappear",
         "9.8",
         "0.8814944",
         "0.9004227",
         "0.8814944",
         "0.9004227"
        ],
        [
         "22",
         "quick",
         "rapid",
         "9.7",
         "0.5612247",
         "0.49779078",
         "0.5612247",
         "0.49779078"
        ],
        [
         "205",
         "creator",
         "maker",
         "9.62",
         "0.24384524",
         "0.26050574",
         "0.24384524",
         "0.26050574"
        ],
        [
         "8",
         "stupid",
         "dumb",
         "9.58",
         "0.83606505",
         "0.8173138",
         "0.83606505",
         "0.8173138"
        ],
        [
         "16",
         "insane",
         "crazy",
         "9.57",
         "0.59173715",
         "0.7339043",
         "0.59173715",
         "0.7339043"
        ]
       ],
       "shape": {
        "columns": 7,
        "rows": 5
       }
      },
      "text/html": [
       "<div>\n",
       "<style scoped>\n",
       "    .dataframe tbody tr th:only-of-type {\n",
       "        vertical-align: middle;\n",
       "    }\n",
       "\n",
       "    .dataframe tbody tr th {\n",
       "        vertical-align: top;\n",
       "    }\n",
       "\n",
       "    .dataframe thead th {\n",
       "        text-align: right;\n",
       "    }\n",
       "</style>\n",
       "<table border=\"1\" class=\"dataframe\">\n",
       "  <thead>\n",
       "    <tr style=\"text-align: right;\">\n",
       "      <th></th>\n",
       "      <th>word1</th>\n",
       "      <th>word2</th>\n",
       "      <th>SimLex999</th>\n",
       "      <th>GloVe</th>\n",
       "      <th>Word2Vec</th>\n",
       "      <th>similarity_glove</th>\n",
       "      <th>similarity_w2v</th>\n",
       "    </tr>\n",
       "  </thead>\n",
       "  <tbody>\n",
       "    <tr>\n",
       "      <th>782</th>\n",
       "      <td>vanish</td>\n",
       "      <td>disappear</td>\n",
       "      <td>9.80</td>\n",
       "      <td>0.881494</td>\n",
       "      <td>0.900423</td>\n",
       "      <td>0.881494</td>\n",
       "      <td>0.900423</td>\n",
       "    </tr>\n",
       "    <tr>\n",
       "      <th>22</th>\n",
       "      <td>quick</td>\n",
       "      <td>rapid</td>\n",
       "      <td>9.70</td>\n",
       "      <td>0.561225</td>\n",
       "      <td>0.497791</td>\n",
       "      <td>0.561225</td>\n",
       "      <td>0.497791</td>\n",
       "    </tr>\n",
       "    <tr>\n",
       "      <th>205</th>\n",
       "      <td>creator</td>\n",
       "      <td>maker</td>\n",
       "      <td>9.62</td>\n",
       "      <td>0.243845</td>\n",
       "      <td>0.260506</td>\n",
       "      <td>0.243845</td>\n",
       "      <td>0.260506</td>\n",
       "    </tr>\n",
       "    <tr>\n",
       "      <th>8</th>\n",
       "      <td>stupid</td>\n",
       "      <td>dumb</td>\n",
       "      <td>9.58</td>\n",
       "      <td>0.836065</td>\n",
       "      <td>0.817314</td>\n",
       "      <td>0.836065</td>\n",
       "      <td>0.817314</td>\n",
       "    </tr>\n",
       "    <tr>\n",
       "      <th>16</th>\n",
       "      <td>insane</td>\n",
       "      <td>crazy</td>\n",
       "      <td>9.57</td>\n",
       "      <td>0.591737</td>\n",
       "      <td>0.733904</td>\n",
       "      <td>0.591737</td>\n",
       "      <td>0.733904</td>\n",
       "    </tr>\n",
       "  </tbody>\n",
       "</table>\n",
       "</div>"
      ],
      "text/plain": [
       "       word1      word2  SimLex999     GloVe  Word2Vec  similarity_glove  \\\n",
       "782   vanish  disappear       9.80  0.881494  0.900423          0.881494   \n",
       "22     quick      rapid       9.70  0.561225  0.497791          0.561225   \n",
       "205  creator      maker       9.62  0.243845  0.260506          0.243845   \n",
       "8     stupid       dumb       9.58  0.836065  0.817314          0.836065   \n",
       "16    insane      crazy       9.57  0.591737  0.733904          0.591737   \n",
       "\n",
       "     similarity_w2v  \n",
       "782        0.900423  \n",
       "22         0.497791  \n",
       "205        0.260506  \n",
       "8          0.817314  \n",
       "16         0.733904  "
      ]
     },
     "execution_count": 40,
     "metadata": {},
     "output_type": "execute_result"
    }
   ],
   "source": [
    "similarities.head()"
   ]
  },
  {
   "cell_type": "code",
   "execution_count": 41,
   "metadata": {},
   "outputs": [
    {
     "data": {
      "text/plain": [
       "<seaborn.axisgrid.FacetGrid at 0x554ebf580>"
      ]
     },
     "execution_count": 41,
     "metadata": {},
     "output_type": "execute_result"
    },
    {
     "data": {
      "image/png": "[encoded data removed]",
      "text/plain": [
       "<Figure size 623.375x500 with 1 Axes>"
      ]
     },
     "metadata": {},
     "output_type": "display_data"
    }
   ],
   "source": [
    "# plots the distribution of similarity scores for each model\n",
    "sims_w2v = similarities[['similarity_w2v']].rename(columns = {'similarity_w2v': 'similarity'})\n",
    "sims_w2v['model'] = 'Word2vec'\n",
    "sims_glove = similarities[['similarity_glove']].rename(columns = {'similarity_glove': 'similarity'})\n",
    "sims_glove['model'] = 'GloVe'\n",
    "to_plot = pd.concat([sims_w2v, sims_glove], ignore_index=True)\n",
    "sns.displot(to_plot, x=\"similarity\", hue=\"model\", kind=\"kde\")"
   ]
  },
  {
   "cell_type": "markdown",
   "metadata": {},
   "source": [
    "<div style=\"padding:8px 0 8px 15px;border-left:3px solid gray;background-color:#F3F3F3; color: black\">\n",
    "\n",
    "#### Extra quiz: \n",
    "Think about which model seems to perform better on these high-similarity examples and why based on your knowledge of how the embedding models have been trained.\n",
    "\n",
    "#### Answer:\n",
    "\n",
    "Glove seems to perform better as it assigns higher similarity scores to the pairs with high similarity compared to Word2Vec. This can be due to the fact that GloVe is trained on a larger corpus and it uses global statistics of the corpus to learn the embeddings. Word2Vec, on the other hand, is trained on local context windows and may not capture the global relationships as well as GloVe does.\n",
    "\n",
    "</div>"
   ]
  },
  {
   "cell_type": "markdown",
   "metadata": {},
   "source": [
    "----"
   ]
  },
  {
   "cell_type": "markdown",
   "metadata": {},
   "source": [
    "<a id=\"3\"></a>\n",
    "## 3. TASK C: Sentiment analysis of movie reviews\n",
    "\n",
    "For this part, we will be using only the GloVe pre-trained embeddings. \n",
    "\n",
    "**Data:** We will build a sentiment classification model using the IMDB review dataset.\n",
    "\n",
    "> - Download the dataset [here](https://www.kaggle.com/datasets/lakshmi25npathi/imdb-dataset-of-50k-movie-reviews/download?datasetVersionNumber=1)\n",
    "> - Save the .csv file in the same dir as this notebook. \n",
    "\n",
    "The IMDB dataset has 50K movie reviews for natural language processing or Text analytics. This is a dataset for binary sentiment classification containing substantially more data than previous benchmark datasets. We provide a set of 25,000 highly polar movie reviews for training and 25,000 for testing.\n",
    "\n",
    "The goal is to predict if a review is positive or negative using a classification (potentiall deep learning) algorithm.\n",
    "\n",
    "For more dataset information, please go through the following link,\n",
    "http://ai.stanford.edu/~amaas/data/sentiment/"
   ]
  },
  {
   "attachments": {
    "IMDB-reviews-dataset-stats.png": {
     "image/png": "[encoded data removed]"
    }
   },
   "cell_type": "markdown",
   "metadata": {},
   "source": [
    "![IMDB-reviews-dataset-stats.png](attachment:IMDB-reviews-dataset-stats.png)"
   ]
  },
  {
   "cell_type": "markdown",
   "metadata": {},
   "source": [
    "### 3.1 Dataset exploration"
   ]
  },
  {
   "cell_type": "code",
   "execution_count": 42,
   "metadata": {},
   "outputs": [
    {
     "data": {
      "application/vnd.microsoft.datawrangler.viewer.v0+json": {
       "columns": [
        {
         "name": "index",
         "rawType": "int64",
         "type": "integer"
        },
        {
         "name": "review",
         "rawType": "object",
         "type": "string"
        },
        {
         "name": "sentiment",
         "rawType": "object",
         "type": "string"
        }
       ],
       "conversionMethod": "pd.DataFrame",
       "ref": "bdce9952-677d-4514-9757-2a6b4fbc320c",
       "rows": [
        [
         "0",
         "One of the other reviewers has mentioned that after watching just 1 Oz episode you'll be hooked. They are right, as this is exactly what happened with me.<br /><br />The first thing that struck me about Oz was its brutality and unflinching scenes of violence, which set in right from the word GO. Trust me, this is not a show for the faint hearted or timid. This show pulls no punches with regards to drugs, sex or violence. Its is hardcore, in the classic use of the word.<br /><br />It is called OZ as that is the nickname given to the Oswald Maximum Security State Penitentary. It focuses mainly on Emerald City, an experimental section of the prison where all the cells have glass fronts and face inwards, so privacy is not high on the agenda. Em City is home to many..Aryans, Muslims, gangstas, Latinos, Christians, Italians, Irish and more....so scuffles, death stares, dodgy dealings and shady agreements are never far away.<br /><br />I would say the main appeal of the show is due to the fact that it goes where other shows wouldn't dare. Forget pretty pictures painted for mainstream audiences, forget charm, forget romance...OZ doesn't mess around. The first episode I ever saw struck me as so nasty it was surreal, I couldn't say I was ready for it, but as I watched more, I developed a taste for Oz, and got accustomed to the high levels of graphic violence. Not just violence, but injustice (crooked guards who'll be sold out for a nickel, inmates who'll kill on order and get away with it, well mannered, middle class inmates being turned into prison bitches due to their lack of street skills or prison experience) Watching Oz, you may become comfortable with what is uncomfortable viewing....thats if you can get in touch with your darker side.",
         "positive"
        ],
        [
         "1",
         "A wonderful little production. <br /><br />The filming technique is very unassuming- very old-time-BBC fashion and gives a comforting, and sometimes discomforting, sense of realism to the entire piece. <br /><br />The actors are extremely well chosen- Michael Sheen not only \"has got all the polari\" but he has all the voices down pat too! You can truly see the seamless editing guided by the references to Williams' diary entries, not only is it well worth the watching but it is a terrificly written and performed piece. A masterful production about one of the great master's of comedy and his life. <br /><br />The realism really comes home with the little things: the fantasy of the guard which, rather than use the traditional 'dream' techniques remains solid then disappears. It plays on our knowledge and our senses, particularly with the scenes concerning Orton and Halliwell and the sets (particularly of their flat with Halliwell's murals decorating every surface) are terribly well done.",
         "positive"
        ],
        [
         "2",
         "I thought this was a wonderful way to spend time on a too hot summer weekend, sitting in the air conditioned theater and watching a light-hearted comedy. The plot is simplistic, but the dialogue is witty and the characters are likable (even the well bread suspected serial killer). While some may be disappointed when they realize this is not Match Point 2: Risk Addiction, I thought it was proof that Woody Allen is still fully in control of the style many of us have grown to love.<br /><br />This was the most I'd laughed at one of Woody's comedies in years (dare I say a decade?). While I've never been impressed with Scarlet Johanson, in this she managed to tone down her \"sexy\" image and jumped right into a average, but spirited young woman.<br /><br />This may not be the crown jewel of his career, but it was wittier than \"Devil Wears Prada\" and more interesting than \"Superman\" a great comedy to go see with friends.",
         "positive"
        ],
        [
         "3",
         "Basically there's a family where a little boy (Jake) thinks there's a zombie in his closet & his parents are fighting all the time.<br /><br />This movie is slower than a soap opera... and suddenly, Jake decides to become Rambo and kill the zombie.<br /><br />OK, first of all when you're going to make a film you must Decide if its a thriller or a drama! As a drama the movie is watchable. Parents are divorcing & arguing like in real life. And then we have Jake with his closet which totally ruins all the film! I expected to see a BOOGEYMAN similar movie, and instead i watched a drama with some meaningless thriller spots.<br /><br />3 out of 10 just for the well playing parents & descent dialogs. As for the shots with Jake: just ignore them.",
         "negative"
        ],
        [
         "4",
         "Petter Mattei's \"Love in the Time of Money\" is a visually stunning film to watch. Mr. Mattei offers us a vivid portrait about human relations. This is a movie that seems to be telling us what money, power and success do to people in the different situations we encounter. <br /><br />This being a variation on the Arthur Schnitzler's play about the same theme, the director transfers the action to the present time New York where all these different characters meet and connect. Each one is connected in one way, or another to the next person, but no one seems to know the previous point of contact. Stylishly, the film has a sophisticated luxurious look. We are taken to see how these people live and the world they live in their own habitat.<br /><br />The only thing one gets out of all these souls in the picture is the different stages of loneliness each one inhabits. A big city is not exactly the best place in which human relations find sincere fulfillment, as one discerns is the case with most of the people we encounter.<br /><br />The acting is good under Mr. Mattei's direction. Steve Buscemi, Rosario Dawson, Carol Kane, Michael Imperioli, Adrian Grenier, and the rest of the talented cast, make these characters come alive.<br /><br />We wish Mr. Mattei good luck and await anxiously for his next work.",
         "positive"
        ]
       ],
       "shape": {
        "columns": 2,
        "rows": 5
       }
      },
      "text/html": [
       "<div>\n",
       "<style scoped>\n",
       "    .dataframe tbody tr th:only-of-type {\n",
       "        vertical-align: middle;\n",
       "    }\n",
       "\n",
       "    .dataframe tbody tr th {\n",
       "        vertical-align: top;\n",
       "    }\n",
       "\n",
       "    .dataframe thead th {\n",
       "        text-align: right;\n",
       "    }\n",
       "</style>\n",
       "<table border=\"1\" class=\"dataframe\">\n",
       "  <thead>\n",
       "    <tr style=\"text-align: right;\">\n",
       "      <th></th>\n",
       "      <th>review</th>\n",
       "      <th>sentiment</th>\n",
       "    </tr>\n",
       "  </thead>\n",
       "  <tbody>\n",
       "    <tr>\n",
       "      <th>0</th>\n",
       "      <td>One of the other reviewers has mentioned that ...</td>\n",
       "      <td>positive</td>\n",
       "    </tr>\n",
       "    <tr>\n",
       "      <th>1</th>\n",
       "      <td>A wonderful little production. &lt;br /&gt;&lt;br /&gt;The...</td>\n",
       "      <td>positive</td>\n",
       "    </tr>\n",
       "    <tr>\n",
       "      <th>2</th>\n",
       "      <td>I thought this was a wonderful way to spend ti...</td>\n",
       "      <td>positive</td>\n",
       "    </tr>\n",
       "    <tr>\n",
       "      <th>3</th>\n",
       "      <td>Basically there's a family where a little boy ...</td>\n",
       "      <td>negative</td>\n",
       "    </tr>\n",
       "    <tr>\n",
       "      <th>4</th>\n",
       "      <td>Petter Mattei's \"Love in the Time of Money\" is...</td>\n",
       "      <td>positive</td>\n",
       "    </tr>\n",
       "  </tbody>\n",
       "</table>\n",
       "</div>"
      ],
      "text/plain": [
       "                                              review sentiment\n",
       "0  One of the other reviewers has mentioned that ...  positive\n",
       "1  A wonderful little production. <br /><br />The...  positive\n",
       "2  I thought this was a wonderful way to spend ti...  positive\n",
       "3  Basically there's a family where a little boy ...  negative\n",
       "4  Petter Mattei's \"Love in the Time of Money\" is...  positive"
      ]
     },
     "execution_count": 42,
     "metadata": {},
     "output_type": "execute_result"
    }
   ],
   "source": [
    "#read dataset\n",
    "movie_reviews = pd.read_csv('data/IMDB Dataset.csv')\n",
    "movie_reviews.head()"
   ]
  },
  {
   "cell_type": "code",
   "execution_count": 43,
   "metadata": {},
   "outputs": [
    {
     "name": "stdout",
     "output_type": "stream",
     "text": [
      "Number of movie reviews: 50000\n",
      "Number of classes: 2 with values: ['positive' 'negative']\n"
     ]
    }
   ],
   "source": [
    "print('Number of movie reviews: {}'.format(len(movie_reviews)))\n",
    "classes = movie_reviews['sentiment'].unique()\n",
    "print('Number of classes: {} with values: {}'.format(len(classes), classes))"
   ]
  },
  {
   "cell_type": "code",
   "execution_count": 44,
   "metadata": {},
   "outputs": [
    {
     "name": "stdout",
     "output_type": "stream",
     "text": [
      "# of positive samples: 25000\n",
      "# of negative samples: 25000\n"
     ]
    },
    {
     "data": {
      "text/plain": [
       "<Axes: xlabel='sentiment', ylabel='count'>"
      ]
     },
     "execution_count": 44,
     "metadata": {},
     "output_type": "execute_result"
    },
    {
     "data": {
      "image/png": "[encoded data removed]",
      "text/plain": [
       "<Figure size 570x527 with 1 Axes>"
      ]
     },
     "metadata": {},
     "output_type": "display_data"
    }
   ],
   "source": [
    "# class distribution\n",
    "positive = len(movie_reviews[movie_reviews['sentiment']=='positive'])\n",
    "negative = len(movie_reviews[movie_reviews['sentiment']=='negative'])\n",
    "\n",
    "print('# of positive samples: {}'.format(positive))\n",
    "print('# of negative samples: {}'.format(negative))\n",
    "\n",
    "sns.set_theme(rc={'figure.figsize':(5.7,5.27)})\n",
    "sns.countplot(x=movie_reviews['sentiment'])"
   ]
  },
  {
   "cell_type": "markdown",
   "metadata": {},
   "source": [
    "### 3.2 Data preprocessing\n",
    "\n",
    "To build our classifier, we will leverage the pre-trained word embeddings (GloVe). Going from word embeddings to sentence vectors, we will need to find a way to take into account the embeddings of all the words each review contains. We will apply 2 techniques to do so: average and max pooling.  \n",
    "\n",
    "We will perform the following preprocessing steps:\n",
    "- Change the classes from str (negative, positive) to binary `(0, 1)`.\n",
    "- Get word embeddings and calculate the sentence vectors with both max and avg pooling.\n",
    "- Create a `pytorch.Dataset` instance of the IMDB data."
   ]
  },
  {
   "cell_type": "markdown",
   "metadata": {},
   "source": [
    "#### From class names to binary"
   ]
  },
  {
   "cell_type": "markdown",
   "metadata": {},
   "source": [
    "<div style=\"padding:8px 0 8px 15px;border-left:3px solid #03befc;background-color:#F3F3F3; color: black\">\n",
    "\n",
    "- 🎯 **Goal:** Change the classe names from str (negative, positive) to binary `(0, 1)` and add it as a new column to the exising dataframe.\n",
    "\n",
    "</div>"
   ]
  },
  {
   "cell_type": "code",
   "execution_count": 96,
   "metadata": {},
   "outputs": [
    {
     "data": {
      "application/vnd.microsoft.datawrangler.viewer.v0+json": {
       "columns": [
        {
         "name": "index",
         "rawType": "int64",
         "type": "integer"
        },
        {
         "name": "review",
         "rawType": "object",
         "type": "string"
        },
        {
         "name": "sentiment",
         "rawType": "object",
         "type": "string"
        },
        {
         "name": "target",
         "rawType": "float64",
         "type": "float"
        }
       ],
       "conversionMethod": "pd.DataFrame",
       "ref": "0727a408-d69a-4b3d-b9a5-c4e44bde6e10",
       "rows": [
        [
         "0",
         "One of the other reviewers has mentioned that after watching just 1 Oz episode you'll be hooked. They are right, as this is exactly what happened with me.<br /><br />The first thing that struck me about Oz was its brutality and unflinching scenes of violence, which set in right from the word GO. Trust me, this is not a show for the faint hearted or timid. This show pulls no punches with regards to drugs, sex or violence. Its is hardcore, in the classic use of the word.<br /><br />It is called OZ as that is the nickname given to the Oswald Maximum Security State Penitentary. It focuses mainly on Emerald City, an experimental section of the prison where all the cells have glass fronts and face inwards, so privacy is not high on the agenda. Em City is home to many..Aryans, Muslims, gangstas, Latinos, Christians, Italians, Irish and more....so scuffles, death stares, dodgy dealings and shady agreements are never far away.<br /><br />I would say the main appeal of the show is due to the fact that it goes where other shows wouldn't dare. Forget pretty pictures painted for mainstream audiences, forget charm, forget romance...OZ doesn't mess around. The first episode I ever saw struck me as so nasty it was surreal, I couldn't say I was ready for it, but as I watched more, I developed a taste for Oz, and got accustomed to the high levels of graphic violence. Not just violence, but injustice (crooked guards who'll be sold out for a nickel, inmates who'll kill on order and get away with it, well mannered, middle class inmates being turned into prison bitches due to their lack of street skills or prison experience) Watching Oz, you may become comfortable with what is uncomfortable viewing....thats if you can get in touch with your darker side.",
         "positive",
         "1.0"
        ],
        [
         "1",
         "A wonderful little production. <br /><br />The filming technique is very unassuming- very old-time-BBC fashion and gives a comforting, and sometimes discomforting, sense of realism to the entire piece. <br /><br />The actors are extremely well chosen- Michael Sheen not only \"has got all the polari\" but he has all the voices down pat too! You can truly see the seamless editing guided by the references to Williams' diary entries, not only is it well worth the watching but it is a terrificly written and performed piece. A masterful production about one of the great master's of comedy and his life. <br /><br />The realism really comes home with the little things: the fantasy of the guard which, rather than use the traditional 'dream' techniques remains solid then disappears. It plays on our knowledge and our senses, particularly with the scenes concerning Orton and Halliwell and the sets (particularly of their flat with Halliwell's murals decorating every surface) are terribly well done.",
         "positive",
         "1.0"
        ],
        [
         "2",
         "I thought this was a wonderful way to spend time on a too hot summer weekend, sitting in the air conditioned theater and watching a light-hearted comedy. The plot is simplistic, but the dialogue is witty and the characters are likable (even the well bread suspected serial killer). While some may be disappointed when they realize this is not Match Point 2: Risk Addiction, I thought it was proof that Woody Allen is still fully in control of the style many of us have grown to love.<br /><br />This was the most I'd laughed at one of Woody's comedies in years (dare I say a decade?). While I've never been impressed with Scarlet Johanson, in this she managed to tone down her \"sexy\" image and jumped right into a average, but spirited young woman.<br /><br />This may not be the crown jewel of his career, but it was wittier than \"Devil Wears Prada\" and more interesting than \"Superman\" a great comedy to go see with friends.",
         "positive",
         "1.0"
        ],
        [
         "3",
         "Basically there's a family where a little boy (Jake) thinks there's a zombie in his closet & his parents are fighting all the time.<br /><br />This movie is slower than a soap opera... and suddenly, Jake decides to become Rambo and kill the zombie.<br /><br />OK, first of all when you're going to make a film you must Decide if its a thriller or a drama! As a drama the movie is watchable. Parents are divorcing & arguing like in real life. And then we have Jake with his closet which totally ruins all the film! I expected to see a BOOGEYMAN similar movie, and instead i watched a drama with some meaningless thriller spots.<br /><br />3 out of 10 just for the well playing parents & descent dialogs. As for the shots with Jake: just ignore them.",
         "negative",
         "0.0"
        ],
        [
         "4",
         "Petter Mattei's \"Love in the Time of Money\" is a visually stunning film to watch. Mr. Mattei offers us a vivid portrait about human relations. This is a movie that seems to be telling us what money, power and success do to people in the different situations we encounter. <br /><br />This being a variation on the Arthur Schnitzler's play about the same theme, the director transfers the action to the present time New York where all these different characters meet and connect. Each one is connected in one way, or another to the next person, but no one seems to know the previous point of contact. Stylishly, the film has a sophisticated luxurious look. We are taken to see how these people live and the world they live in their own habitat.<br /><br />The only thing one gets out of all these souls in the picture is the different stages of loneliness each one inhabits. A big city is not exactly the best place in which human relations find sincere fulfillment, as one discerns is the case with most of the people we encounter.<br /><br />The acting is good under Mr. Mattei's direction. Steve Buscemi, Rosario Dawson, Carol Kane, Michael Imperioli, Adrian Grenier, and the rest of the talented cast, make these characters come alive.<br /><br />We wish Mr. Mattei good luck and await anxiously for his next work.",
         "positive",
         "1.0"
        ]
       ],
       "shape": {
        "columns": 3,
        "rows": 5
       }
      },
      "text/html": [
       "<div>\n",
       "<style scoped>\n",
       "    .dataframe tbody tr th:only-of-type {\n",
       "        vertical-align: middle;\n",
       "    }\n",
       "\n",
       "    .dataframe tbody tr th {\n",
       "        vertical-align: top;\n",
       "    }\n",
       "\n",
       "    .dataframe thead th {\n",
       "        text-align: right;\n",
       "    }\n",
       "</style>\n",
       "<table border=\"1\" class=\"dataframe\">\n",
       "  <thead>\n",
       "    <tr style=\"text-align: right;\">\n",
       "      <th></th>\n",
       "      <th>review</th>\n",
       "      <th>sentiment</th>\n",
       "      <th>target</th>\n",
       "    </tr>\n",
       "  </thead>\n",
       "  <tbody>\n",
       "    <tr>\n",
       "      <th>0</th>\n",
       "      <td>One of the other reviewers has mentioned that ...</td>\n",
       "      <td>positive</td>\n",
       "      <td>1.0</td>\n",
       "    </tr>\n",
       "    <tr>\n",
       "      <th>1</th>\n",
       "      <td>A wonderful little production. &lt;br /&gt;&lt;br /&gt;The...</td>\n",
       "      <td>positive</td>\n",
       "      <td>1.0</td>\n",
       "    </tr>\n",
       "    <tr>\n",
       "      <th>2</th>\n",
       "      <td>I thought this was a wonderful way to spend ti...</td>\n",
       "      <td>positive</td>\n",
       "      <td>1.0</td>\n",
       "    </tr>\n",
       "    <tr>\n",
       "      <th>3</th>\n",
       "      <td>Basically there's a family where a little boy ...</td>\n",
       "      <td>negative</td>\n",
       "      <td>0.0</td>\n",
       "    </tr>\n",
       "    <tr>\n",
       "      <th>4</th>\n",
       "      <td>Petter Mattei's \"Love in the Time of Money\" is...</td>\n",
       "      <td>positive</td>\n",
       "      <td>1.0</td>\n",
       "    </tr>\n",
       "  </tbody>\n",
       "</table>\n",
       "</div>"
      ],
      "text/plain": [
       "                                              review sentiment  target\n",
       "0  One of the other reviewers has mentioned that ...  positive     1.0\n",
       "1  A wonderful little production. <br /><br />The...  positive     1.0\n",
       "2  I thought this was a wonderful way to spend ti...  positive     1.0\n",
       "3  Basically there's a family where a little boy ...  negative     0.0\n",
       "4  Petter Mattei's \"Love in the Time of Money\" is...  positive     1.0"
      ]
     },
     "execution_count": 96,
     "metadata": {},
     "output_type": "execute_result"
    }
   ],
   "source": [
    "# classes to binary\n",
    "movie_reviews['target'] = movie_reviews['sentiment'].apply(lambda x: 1.0 if x == 'positive' else 0.0)\n",
    "movie_reviews.head()"
   ]
  },
  {
   "cell_type": "markdown",
   "metadata": {},
   "source": [
    "#### From word embeddings to review embeddings"
   ]
  },
  {
   "cell_type": "markdown",
   "metadata": {},
   "source": [
    "<div style=\"padding:8px 0 8px 15px;border-left:3px solid #03befc;background-color:#F3F3F3; color: black\">\n",
    "\n",
    "- 🎯 **Goal:** For each review in the dataset, calculate the review vector by pooling from the review's word embeddings. Implement both max and avg pooling.\n",
    "- 💻 **API:** You can use numpy functions to manipulate the arrays. For review tokenization you can use `gensim.utils.tokenize` function.\n",
    "\n",
    "</div>"
   ]
  },
  {
   "cell_type": "code",
   "execution_count": 97,
   "metadata": {},
   "outputs": [],
   "source": [
    "# apply embedding model to the words of the reviews and then perform pooling\n",
    "\n",
    "def review2vector(review, max=False, avg=False):\n",
    "    tokens = gensim.utils.tokenize(review, lower=True)\n",
    "    embeddings = [glove_vectors[token] for token in tokens if token in glove_vectors]\n",
    "    \n",
    "    if max:\n",
    "        return np.max(embeddings, axis=0)\n",
    "    if avg:\n",
    "        return np.mean(embeddings, axis=0)\n",
    "\n",
    "    return embeddings\n",
    "\n",
    "\n",
    "review_vectors_max = movie_reviews['review'].apply(lambda x: review2vector(x, max=True))\n",
    "review_vectors_avg = movie_reviews['review'].apply(lambda x: review2vector(x, avg=True))\n"
   ]
  },
  {
   "cell_type": "code",
   "execution_count": 98,
   "metadata": {},
   "outputs": [
    {
     "data": {
      "text/plain": [
       "(100,)"
      ]
     },
     "execution_count": 98,
     "metadata": {},
     "output_type": "execute_result"
    }
   ],
   "source": [
    "review_vectors_avg[0].shape"
   ]
  },
  {
   "cell_type": "code",
   "execution_count": 99,
   "metadata": {},
   "outputs": [
    {
     "data": {
      "text/plain": [
       "(100,)"
      ]
     },
     "execution_count": 99,
     "metadata": {},
     "output_type": "execute_result"
    }
   ],
   "source": [
    "review_vectors_max[0].shape"
   ]
  },
  {
   "cell_type": "markdown",
   "metadata": {},
   "source": [
    "#### Pytorch Dataset class for the imported data"
   ]
  },
  {
   "cell_type": "markdown",
   "metadata": {},
   "source": [
    "<div style=\"padding:8px 0 8px 15px;border-left:3px solid #03befc;background-color:#F3F3F3; color: black\">\n",
    "\n",
    "- 🎯 **Goal:** Create a pytorch Dataset class with the input data. Instantiate this class with the input data.\n",
    "- 💻 **API:** You can use `torch.utils.data.Dataset` class.\n",
    "\n",
    "</div>"
   ]
  },
  {
   "cell_type": "code",
   "execution_count": 112,
   "metadata": {},
   "outputs": [],
   "source": [
    "class IMDBreviews(Dataset):\n",
    "    def __init__(self,review_vectors, targets):\n",
    "        self.x=torch.tensor(review_vectors)\n",
    "        self.y=torch.tensor(targets)\n",
    "        \n",
    "    def __len__(self):\n",
    "        return len(self.y)\n",
    "\n",
    "    def __getitem__(self,idx):\n",
    "        return self.x[idx],self.y[idx]\n",
    "\n",
    "dataset = IMDBreviews(review_vectors_avg, movie_reviews['target'].values)"
   ]
  },
  {
   "cell_type": "code",
   "execution_count": 113,
   "metadata": {},
   "outputs": [
    {
     "name": "stdout",
     "output_type": "stream",
     "text": [
      "Total samples 50000 with sentence embedding size: 100\n"
     ]
    }
   ],
   "source": [
    "# print tensors for sanity check\n",
    "print('Total samples {} with sentence embedding size: {}'.format(dataset.x.shape[0], dataset.x.shape[1]))"
   ]
  },
  {
   "cell_type": "markdown",
   "metadata": {},
   "source": [
    "#### Splitting dataset to train and test subsets"
   ]
  },
  {
   "cell_type": "markdown",
   "metadata": {},
   "source": [
    "<div style=\"padding:8px 0 8px 15px;border-left:3px solid #03befc;background-color:#F3F3F3; color: black\">\n",
    "\n",
    "- 🎯 **Goal:** Split the dataset into train and test tests (80-20% splits).\n",
    "- 💻 **API:** You can use `torch.utils.data.random_split` function.\n",
    "\n",
    "</div>"
   ]
  },
  {
   "cell_type": "code",
   "execution_count": 114,
   "metadata": {},
   "outputs": [],
   "source": [
    "# split to train and test sets\n",
    "import torch.utils.data\n",
    "train, test = torch.utils.data.random_split(dataset, [0.8,0.2])"
   ]
  },
  {
   "cell_type": "code",
   "execution_count": 115,
   "metadata": {},
   "outputs": [
    {
     "name": "stdout",
     "output_type": "stream",
     "text": [
      "Train size: 40000\n",
      "Test size: 10000\n"
     ]
    }
   ],
   "source": [
    "print('Train size: {}'.format(len(train)))\n",
    "print('Test size: {}'.format(len(test)))"
   ]
  },
  {
   "cell_type": "markdown",
   "metadata": {},
   "source": [
    "### 3.3 Train & evaluate a classifier on the movie reviews\n",
    "\n",
    "Once we have proprocessed the data, we will create the training and evaluation pipelines.\n"
   ]
  },
  {
   "cell_type": "markdown",
   "metadata": {},
   "source": [
    "#### Pytorch Module class for model setup"
   ]
  },
  {
   "cell_type": "markdown",
   "metadata": {},
   "source": [
    "<div style=\"padding:8px 0 8px 15px;border-left:3px solid #03befc;background-color:#F3F3F3; color: black\">\n",
    "\n",
    "- 🎯 **Goal:** Create a pytorch model class. The architecture of the model can be as simple as a Linear layer along with a sigmoid activation function, or a more complicated deep architecture. Play around with different settings and architectures.\n",
    "- 💻 **API:** You can use `torch.nn.Module` class.\n",
    "\n",
    "</div>"
   ]
  },
  {
   "cell_type": "code",
   "execution_count": 116,
   "metadata": {},
   "outputs": [],
   "source": [
    "# create a pytorch nn.Module class for the simple logistic regression model\n",
    "class SentimentAnalysisModel(nn.Module):\n",
    "\n",
    "    def __init__(self, embedd_size):\n",
    "        super(SentimentAnalysisModel, self).__init__()\n",
    "        self.linear = nn.Linear(embedd_size, 1)\n",
    "\n",
    "    def forward(self, text):\n",
    "        return torch.sigmoid(self.linear(text))"
   ]
  },
  {
   "cell_type": "code",
   "execution_count": 117,
   "metadata": {},
   "outputs": [
    {
     "data": {
      "text/plain": [
       "SentimentAnalysisModel(\n",
       "  (linear): Linear(in_features=100, out_features=1, bias=True)\n",
       ")"
      ]
     },
     "execution_count": 117,
     "metadata": {},
     "output_type": "execute_result"
    }
   ],
   "source": [
    "model = SentimentAnalysisModel(dataset.x.shape[1])\n",
    "model"
   ]
  },
  {
   "cell_type": "code",
   "execution_count": 118,
   "metadata": {},
   "outputs": [
    {
     "name": "stdout",
     "output_type": "stream",
     "text": [
      "The model has 101 trainable parameters\n"
     ]
    }
   ],
   "source": [
    "def count_parameters(model):\n",
    "    return sum(p.numel() for p in model.parameters() if p.requires_grad)\n",
    "\n",
    "print(f'The model has {count_parameters(model):,} trainable parameters')"
   ]
  },
  {
   "cell_type": "markdown",
   "metadata": {},
   "source": [
    "#### Pytorch Data loader class for dataset batching"
   ]
  },
  {
   "cell_type": "code",
   "execution_count": 119,
   "metadata": {},
   "outputs": [],
   "source": [
    "# create data loader\n",
    "BATCH_SIZE = 64\n",
    "train_loader = DataLoader(train, batch_size=BATCH_SIZE, shuffle=True)\n",
    "test_loader= DataLoader(test, batch_size=BATCH_SIZE)"
   ]
  },
  {
   "cell_type": "markdown",
   "metadata": {},
   "source": [
    "#### Training the model"
   ]
  },
  {
   "cell_type": "code",
   "execution_count": 120,
   "metadata": {},
   "outputs": [],
   "source": [
    "# Construct our loss function and an Optimizer. The call to model.parameters()\n",
    "# in the SGD constructor will contain the learnable parameters of the two\n",
    "# nn.Linear modules which are members of the model.\n",
    "from torch import optim\n",
    "criterion = nn.BCELoss()\n",
    "optimizer = optim.SGD(model.parameters(), lr=1e-1)"
   ]
  },
  {
   "cell_type": "markdown",
   "metadata": {},
   "source": [
    "<div style=\"padding:8px 0 8px 15px;border-left:3px solid #03befc;background-color:#F3F3F3; color: black\">\n",
    "\n",
    "- 🎯 **Goal:** Create the training loop: for each epoch, do the forward pass, compute the loss and do the backward propagation.\n",
    "- 💻 **API:** Check the official API for the [training process](https://pytorch.org/tutorials/beginner/blitz/cifar10_tutorial.html#train-the-network).\n",
    "\n",
    "</div>"
   ]
  },
  {
   "cell_type": "code",
   "execution_count": 121,
   "metadata": {},
   "outputs": [
    {
     "name": "stdout",
     "output_type": "stream",
     "text": [
      "Epoch 1 | Loss: 0.6650\n",
      "Epoch 2 | Loss: 0.6269\n",
      "Epoch 3 | Loss: 0.6046\n",
      "Epoch 4 | Loss: 0.5881\n",
      "Epoch 5 | Loss: 0.5754\n",
      "Epoch 6 | Loss: 0.5649\n",
      "Epoch 7 | Loss: 0.5564\n",
      "Epoch 8 | Loss: 0.5486\n",
      "Epoch 9 | Loss: 0.5425\n",
      "Epoch 10 | Loss: 0.5363\n",
      "Epoch 11 | Loss: 0.5316\n",
      "Epoch 12 | Loss: 0.5270\n",
      "Epoch 13 | Loss: 0.5229\n",
      "Epoch 14 | Loss: 0.5189\n",
      "Epoch 15 | Loss: 0.5155\n",
      "Epoch 16 | Loss: 0.5125\n",
      "Epoch 17 | Loss: 0.5097\n",
      "Epoch 18 | Loss: 0.5070\n",
      "Epoch 19 | Loss: 0.5044\n",
      "Epoch 20 | Loss: 0.5018\n",
      "Epoch 21 | Loss: 0.4997\n",
      "Epoch 22 | Loss: 0.4974\n",
      "Epoch 23 | Loss: 0.4959\n",
      "Epoch 24 | Loss: 0.4940\n",
      "Epoch 25 | Loss: 0.4923\n",
      "Epoch 26 | Loss: 0.4904\n",
      "Epoch 27 | Loss: 0.4889\n",
      "Epoch 28 | Loss: 0.4874\n",
      "Epoch 29 | Loss: 0.4860\n",
      "Epoch 30 | Loss: 0.4846\n",
      "Epoch 31 | Loss: 0.4834\n",
      "Epoch 32 | Loss: 0.4822\n",
      "Epoch 33 | Loss: 0.4809\n",
      "Epoch 34 | Loss: 0.4798\n",
      "Epoch 35 | Loss: 0.4789\n",
      "Epoch 36 | Loss: 0.4777\n",
      "Epoch 37 | Loss: 0.4763\n",
      "Epoch 38 | Loss: 0.4757\n",
      "Epoch 39 | Loss: 0.4747\n",
      "Epoch 40 | Loss: 0.4739\n",
      "Epoch 41 | Loss: 0.4731\n",
      "Epoch 42 | Loss: 0.4720\n",
      "Epoch 43 | Loss: 0.4716\n",
      "Epoch 44 | Loss: 0.4704\n",
      "Epoch 45 | Loss: 0.4699\n",
      "Epoch 46 | Loss: 0.4690\n",
      "Epoch 47 | Loss: 0.4686\n",
      "Epoch 48 | Loss: 0.4676\n",
      "Epoch 49 | Loss: 0.4671\n",
      "Epoch 50 | Loss: 0.4663\n",
      "Epoch 51 | Loss: 0.4657\n",
      "Epoch 52 | Loss: 0.4651\n",
      "Epoch 53 | Loss: 0.4645\n",
      "Epoch 54 | Loss: 0.4641\n",
      "Epoch 55 | Loss: 0.4633\n",
      "Epoch 56 | Loss: 0.4631\n",
      "Epoch 57 | Loss: 0.4625\n",
      "Epoch 58 | Loss: 0.4619\n",
      "Epoch 59 | Loss: 0.4612\n",
      "Epoch 60 | Loss: 0.4610\n",
      "Epoch 61 | Loss: 0.4603\n",
      "Epoch 62 | Loss: 0.4600\n",
      "Epoch 63 | Loss: 0.4599\n",
      "Epoch 64 | Loss: 0.4588\n",
      "Epoch 65 | Loss: 0.4586\n",
      "Epoch 66 | Loss: 0.4582\n",
      "Epoch 67 | Loss: 0.4579\n",
      "Epoch 68 | Loss: 0.4575\n",
      "Epoch 69 | Loss: 0.4570\n",
      "Epoch 70 | Loss: 0.4567\n",
      "Epoch 71 | Loss: 0.4564\n",
      "Epoch 72 | Loss: 0.4559\n",
      "Epoch 73 | Loss: 0.4555\n",
      "Epoch 74 | Loss: 0.4556\n",
      "Epoch 75 | Loss: 0.4551\n",
      "Epoch 76 | Loss: 0.4548\n",
      "Epoch 77 | Loss: 0.4543\n",
      "Epoch 78 | Loss: 0.4541\n",
      "Epoch 79 | Loss: 0.4541\n",
      "Epoch 80 | Loss: 0.4536\n",
      "Epoch 81 | Loss: 0.4532\n",
      "Epoch 82 | Loss: 0.4527\n",
      "Epoch 83 | Loss: 0.4526\n",
      "Epoch 84 | Loss: 0.4526\n",
      "Epoch 85 | Loss: 0.4520\n",
      "Epoch 86 | Loss: 0.4519\n",
      "Epoch 87 | Loss: 0.4516\n",
      "Epoch 88 | Loss: 0.4515\n",
      "Epoch 89 | Loss: 0.4511\n",
      "Epoch 90 | Loss: 0.4510\n",
      "Epoch 91 | Loss: 0.4507\n",
      "Epoch 92 | Loss: 0.4504\n",
      "Epoch 93 | Loss: 0.4503\n",
      "Epoch 94 | Loss: 0.4502\n",
      "Epoch 95 | Loss: 0.4498\n",
      "Epoch 96 | Loss: 0.4494\n",
      "Epoch 97 | Loss: 0.4492\n",
      "Epoch 98 | Loss: 0.4493\n",
      "Epoch 99 | Loss: 0.4489\n",
      "Epoch 100 | Loss: 0.4488\n"
     ]
    }
   ],
   "source": [
    "# Training loop\n",
    "model.train()\n",
    "for epoch in range(100):\n",
    "    epoch_loss = 0\n",
    "    for i, data in enumerate(train_loader, 0):\n",
    "        # get the inputs\n",
    "        text, label = data\n",
    "        \n",
    "        # Zero the parameter gradients\n",
    "       \n",
    "        \n",
    "        # Forward pass: Compute predicted y by passing x to the model\n",
    "        y = model(text)\n",
    "        \n",
    "        # Compute loss\n",
    "        loss = criterion(torch.squeeze(y), label.float())\n",
    "        epoch_loss += loss\n",
    "        \n",
    "        # Perform a backward pass, and update the weights.\n",
    "        optimizer.zero_grad()\n",
    "        loss.backward()\n",
    "        optimizer.step()\n",
    "        \n",
    "    print(f'Epoch {epoch + 1} | Loss: {(epoch_loss / len(train_loader)):.4f}')"
   ]
  },
  {
   "cell_type": "markdown",
   "metadata": {},
   "source": [
    "#### Inference on the test set"
   ]
  },
  {
   "cell_type": "markdown",
   "metadata": {},
   "source": [
    "\n",
    "<div style=\"padding:8px 0 8px 15px;border-left:3px solid #03befc;background-color:#F3F3F3; color: black\">\n",
    "\n",
    "- 🎯 **Goal:** Evaluate your model on the test set: for each batch of data, do the forward pass and compute the loss and the accuracy score.\n",
    "- 💻 **API:** Check the official API for the [testing process](https://pytorch.org/tutorials/beginner/blitz/cifar10_tutorial.html#test-the-network-on-the-test-data).\n",
    "\n",
    "</div>"
   ]
  },
  {
   "cell_type": "code",
   "execution_count": 122,
   "metadata": {},
   "outputs": [
    {
     "name": "stdout",
     "output_type": "stream",
     "text": [
      "Test Acc: 78.57%\n"
     ]
    }
   ],
   "source": [
    "batch_loss = 0\n",
    "batch_acc = 0\n",
    "\n",
    "model.eval()\n",
    "for i, data in enumerate(test_loader, 0):\n",
    "    # get the inputs\n",
    "    text, label = data\n",
    "    \n",
    "    # run forward pass\n",
    "    y_pred = model(text)\n",
    "    \n",
    "    # Compute loss\n",
    "    y_pred = torch.squeeze(y_pred)\n",
    "    test_loss = criterion(y_pred, label.float())\n",
    "    y_pred = torch.tensor([1. if i > 0.5 else 0. for i in y_pred])\n",
    "    \n",
    "    # Compute accuracy\n",
    "    acc = BinaryAccuracy()\n",
    "    acc.update(y_pred, label)\n",
    "    \n",
    "    batch_loss += test_loss.item()\n",
    "    batch_acc += acc.compute()\n",
    "\n",
    "test_loss = batch_loss / len(test_loader)\n",
    "test_acc = batch_acc / len(test_loader)\n",
    "\n",
    "print(f'Test Acc: {test_acc*100:.2f}%')"
   ]
  },
  {
   "cell_type": "markdown",
   "metadata": {},
   "source": [
    "<div style=\"padding:8px 0 8px 15px;border-left:3px solid gray;background-color:#F3F3F3; color: black\">\n",
    "\n",
    "#### Extra quiz:\n",
    "Play around with different settings (e.g. learning rate, batch size, epochs) and different architectures. Additionally try different pooling methods. Think how your design choices affect model performance on both train and test sets.\n",
    "\n",
    "</div>"
   ]
  },
  {
   "cell_type": "markdown",
   "metadata": {},
   "source": [
    "### 🎉 Congrats! You finished your first exercise session! \n",
    "\n",
    "Awesome work! See you next week! 👋"
   ]
  }
 ],
 "metadata": {
  "kernelspec": {
   "display_name": "mnlp",
   "language": "python",
   "name": "python3"
  },
  "language_info": {
   "codemirror_mode": {
    "name": "ipython",
    "version": 3
   },
   "file_extension": ".py",
   "mimetype": "text/x-python",
   "name": "python",
   "nbconvert_exporter": "python",
   "pygments_lexer": "ipython3",
   "version": "3.10.11"
  }
 },
 "nbformat": 4,
 "nbformat_minor": 4
}
